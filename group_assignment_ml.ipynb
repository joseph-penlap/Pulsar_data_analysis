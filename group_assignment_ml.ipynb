{
  "nbformat": 4,
  "nbformat_minor": 0,
  "metadata": {
    "colab": {
      "provenance": []
    },
    "kernelspec": {
      "name": "python3",
      "display_name": "Python 3"
    },
    "language_info": {
      "name": "python"
    },
    "accelerator": "GPU"
  },
  "cells": [
    {
      "cell_type": "markdown",
      "source": [
        "Group work\n",
        "\n",
        "MEMBERS:\n",
        "\n",
        "* Joseph Penlap\n",
        "* Josue Nguinabe\n",
        "* Lydie Gaelle\n",
        "* Nathalie Jadot\n",
        "* Paule Comfort"
      ],
      "metadata": {
        "id": "rzcG6yp816yE"
      }
    },
    {
      "cell_type": "code",
      "execution_count": null,
      "metadata": {
        "id": "VCaNhbgdaAqY"
      },
      "outputs": [],
      "source": [
        "import pandas as pd\n",
        "import numpy as np\n",
        "import seaborn as sns\n",
        "import matplotlib.pyplot as plt\n",
        "import warnings\n",
        "#warnings.filterwarnings(\"ignore\")"
      ]
    },
    {
      "cell_type": "code",
      "source": [],
      "metadata": {
        "id": "wJ-zipGj3n_H"
      },
      "execution_count": null,
      "outputs": []
    },
    {
      "cell_type": "markdown",
      "source": [
        "The data contains 2 subsets:\n",
        "\n",
        "    1- pulsar_data_train : to use it to train the model\n",
        "\n",
        "    2- pulsar_data_test : to use it to test the model\n"
      ],
      "metadata": {
        "id": "6qZNQ0GFdOPt"
      }
    },
    {
      "cell_type": "code",
      "source": [
        "pulsar_data=pd.read_csv(\"pulsar_data_train.csv\")\n",
        "#test_df=pd.read_csv(\"/content/drive/MyDrive/Colab Notebooks/Group_Assignment_ML/pulsar_data_test.csv\")"
      ],
      "metadata": {
        "id": "dr_fSosOalPq"
      },
      "execution_count": null,
      "outputs": []
    },
    {
      "cell_type": "code",
      "source": [],
      "metadata": {
        "id": "ge1Nl6_r8pvx"
      },
      "execution_count": null,
      "outputs": []
    },
    {
      "cell_type": "code",
      "source": [
        "pulsar_data.head()   # sample of training data"
      ],
      "metadata": {
        "colab": {
          "base_uri": "https://localhost:8080/",
          "height": 267
        },
        "id": "dznzd2g5alMA",
        "outputId": "cb0b7594-82a8-4f68-b60b-27054bb78670"
      },
      "execution_count": null,
      "outputs": [
        {
          "output_type": "execute_result",
          "data": {
            "text/plain": [
              "    Mean of the integrated profile  \\\n",
              "0                       121.156250   \n",
              "1                        76.968750   \n",
              "2                       130.585938   \n",
              "3                       156.398438   \n",
              "4                        84.804688   \n",
              "\n",
              "    Standard deviation of the integrated profile  \\\n",
              "0                                      48.372971   \n",
              "1                                      36.175557   \n",
              "2                                      53.229534   \n",
              "3                                      48.865942   \n",
              "4                                      36.117659   \n",
              "\n",
              "    Excess kurtosis of the integrated profile  \\\n",
              "0                                    0.375485   \n",
              "1                                    0.712898   \n",
              "2                                    0.133408   \n",
              "3                                   -0.215989   \n",
              "4                                    0.825013   \n",
              "\n",
              "    Skewness of the integrated profile   Mean of the DM-SNR curve  \\\n",
              "0                            -0.013165                   3.168896   \n",
              "1                             3.388719                   2.399666   \n",
              "2                            -0.297242                   2.743311   \n",
              "3                            -0.171294                  17.471572   \n",
              "4                             3.274125                   2.790134   \n",
              "\n",
              "    Standard deviation of the DM-SNR curve  \\\n",
              "0                                18.399367   \n",
              "1                                17.570997   \n",
              "2                                22.362553   \n",
              "3                                      NaN   \n",
              "4                                20.618009   \n",
              "\n",
              "    Excess kurtosis of the DM-SNR curve   Skewness of the DM-SNR curve  \\\n",
              "0                              7.449874                      65.159298   \n",
              "1                              9.414652                     102.722975   \n",
              "2                              8.508364                      74.031324   \n",
              "3                              2.958066                       7.197842   \n",
              "4                              8.405008                      76.291128   \n",
              "\n",
              "   target_class  \n",
              "0           0.0  \n",
              "1           0.0  \n",
              "2           0.0  \n",
              "3           0.0  \n",
              "4           0.0  "
            ],
            "text/html": [
              "\n",
              "  <div id=\"df-db1840fb-16ee-491b-80d4-dcf177eaacd3\">\n",
              "    <div class=\"colab-df-container\">\n",
              "      <div>\n",
              "<style scoped>\n",
              "    .dataframe tbody tr th:only-of-type {\n",
              "        vertical-align: middle;\n",
              "    }\n",
              "\n",
              "    .dataframe tbody tr th {\n",
              "        vertical-align: top;\n",
              "    }\n",
              "\n",
              "    .dataframe thead th {\n",
              "        text-align: right;\n",
              "    }\n",
              "</style>\n",
              "<table border=\"1\" class=\"dataframe\">\n",
              "  <thead>\n",
              "    <tr style=\"text-align: right;\">\n",
              "      <th></th>\n",
              "      <th>Mean of the integrated profile</th>\n",
              "      <th>Standard deviation of the integrated profile</th>\n",
              "      <th>Excess kurtosis of the integrated profile</th>\n",
              "      <th>Skewness of the integrated profile</th>\n",
              "      <th>Mean of the DM-SNR curve</th>\n",
              "      <th>Standard deviation of the DM-SNR curve</th>\n",
              "      <th>Excess kurtosis of the DM-SNR curve</th>\n",
              "      <th>Skewness of the DM-SNR curve</th>\n",
              "      <th>target_class</th>\n",
              "    </tr>\n",
              "  </thead>\n",
              "  <tbody>\n",
              "    <tr>\n",
              "      <th>0</th>\n",
              "      <td>121.156250</td>\n",
              "      <td>48.372971</td>\n",
              "      <td>0.375485</td>\n",
              "      <td>-0.013165</td>\n",
              "      <td>3.168896</td>\n",
              "      <td>18.399367</td>\n",
              "      <td>7.449874</td>\n",
              "      <td>65.159298</td>\n",
              "      <td>0.0</td>\n",
              "    </tr>\n",
              "    <tr>\n",
              "      <th>1</th>\n",
              "      <td>76.968750</td>\n",
              "      <td>36.175557</td>\n",
              "      <td>0.712898</td>\n",
              "      <td>3.388719</td>\n",
              "      <td>2.399666</td>\n",
              "      <td>17.570997</td>\n",
              "      <td>9.414652</td>\n",
              "      <td>102.722975</td>\n",
              "      <td>0.0</td>\n",
              "    </tr>\n",
              "    <tr>\n",
              "      <th>2</th>\n",
              "      <td>130.585938</td>\n",
              "      <td>53.229534</td>\n",
              "      <td>0.133408</td>\n",
              "      <td>-0.297242</td>\n",
              "      <td>2.743311</td>\n",
              "      <td>22.362553</td>\n",
              "      <td>8.508364</td>\n",
              "      <td>74.031324</td>\n",
              "      <td>0.0</td>\n",
              "    </tr>\n",
              "    <tr>\n",
              "      <th>3</th>\n",
              "      <td>156.398438</td>\n",
              "      <td>48.865942</td>\n",
              "      <td>-0.215989</td>\n",
              "      <td>-0.171294</td>\n",
              "      <td>17.471572</td>\n",
              "      <td>NaN</td>\n",
              "      <td>2.958066</td>\n",
              "      <td>7.197842</td>\n",
              "      <td>0.0</td>\n",
              "    </tr>\n",
              "    <tr>\n",
              "      <th>4</th>\n",
              "      <td>84.804688</td>\n",
              "      <td>36.117659</td>\n",
              "      <td>0.825013</td>\n",
              "      <td>3.274125</td>\n",
              "      <td>2.790134</td>\n",
              "      <td>20.618009</td>\n",
              "      <td>8.405008</td>\n",
              "      <td>76.291128</td>\n",
              "      <td>0.0</td>\n",
              "    </tr>\n",
              "  </tbody>\n",
              "</table>\n",
              "</div>\n",
              "      <button class=\"colab-df-convert\" onclick=\"convertToInteractive('df-db1840fb-16ee-491b-80d4-dcf177eaacd3')\"\n",
              "              title=\"Convert this dataframe to an interactive table.\"\n",
              "              style=\"display:none;\">\n",
              "        \n",
              "  <svg xmlns=\"http://www.w3.org/2000/svg\" height=\"24px\"viewBox=\"0 0 24 24\"\n",
              "       width=\"24px\">\n",
              "    <path d=\"M0 0h24v24H0V0z\" fill=\"none\"/>\n",
              "    <path d=\"M18.56 5.44l.94 2.06.94-2.06 2.06-.94-2.06-.94-.94-2.06-.94 2.06-2.06.94zm-11 1L8.5 8.5l.94-2.06 2.06-.94-2.06-.94L8.5 2.5l-.94 2.06-2.06.94zm10 10l.94 2.06.94-2.06 2.06-.94-2.06-.94-.94-2.06-.94 2.06-2.06.94z\"/><path d=\"M17.41 7.96l-1.37-1.37c-.4-.4-.92-.59-1.43-.59-.52 0-1.04.2-1.43.59L10.3 9.45l-7.72 7.72c-.78.78-.78 2.05 0 2.83L4 21.41c.39.39.9.59 1.41.59.51 0 1.02-.2 1.41-.59l7.78-7.78 2.81-2.81c.8-.78.8-2.07 0-2.86zM5.41 20L4 18.59l7.72-7.72 1.47 1.35L5.41 20z\"/>\n",
              "  </svg>\n",
              "      </button>\n",
              "      \n",
              "  <style>\n",
              "    .colab-df-container {\n",
              "      display:flex;\n",
              "      flex-wrap:wrap;\n",
              "      gap: 12px;\n",
              "    }\n",
              "\n",
              "    .colab-df-convert {\n",
              "      background-color: #E8F0FE;\n",
              "      border: none;\n",
              "      border-radius: 50%;\n",
              "      cursor: pointer;\n",
              "      display: none;\n",
              "      fill: #1967D2;\n",
              "      height: 32px;\n",
              "      padding: 0 0 0 0;\n",
              "      width: 32px;\n",
              "    }\n",
              "\n",
              "    .colab-df-convert:hover {\n",
              "      background-color: #E2EBFA;\n",
              "      box-shadow: 0px 1px 2px rgba(60, 64, 67, 0.3), 0px 1px 3px 1px rgba(60, 64, 67, 0.15);\n",
              "      fill: #174EA6;\n",
              "    }\n",
              "\n",
              "    [theme=dark] .colab-df-convert {\n",
              "      background-color: #3B4455;\n",
              "      fill: #D2E3FC;\n",
              "    }\n",
              "\n",
              "    [theme=dark] .colab-df-convert:hover {\n",
              "      background-color: #434B5C;\n",
              "      box-shadow: 0px 1px 3px 1px rgba(0, 0, 0, 0.15);\n",
              "      filter: drop-shadow(0px 1px 2px rgba(0, 0, 0, 0.3));\n",
              "      fill: #FFFFFF;\n",
              "    }\n",
              "  </style>\n",
              "\n",
              "      <script>\n",
              "        const buttonEl =\n",
              "          document.querySelector('#df-db1840fb-16ee-491b-80d4-dcf177eaacd3 button.colab-df-convert');\n",
              "        buttonEl.style.display =\n",
              "          google.colab.kernel.accessAllowed ? 'block' : 'none';\n",
              "\n",
              "        async function convertToInteractive(key) {\n",
              "          const element = document.querySelector('#df-db1840fb-16ee-491b-80d4-dcf177eaacd3');\n",
              "          const dataTable =\n",
              "            await google.colab.kernel.invokeFunction('convertToInteractive',\n",
              "                                                     [key], {});\n",
              "          if (!dataTable) return;\n",
              "\n",
              "          const docLinkHtml = 'Like what you see? Visit the ' +\n",
              "            '<a target=\"_blank\" href=https://colab.research.google.com/notebooks/data_table.ipynb>data table notebook</a>'\n",
              "            + ' to learn more about interactive tables.';\n",
              "          element.innerHTML = '';\n",
              "          dataTable['output_type'] = 'display_data';\n",
              "          await google.colab.output.renderOutput(dataTable, element);\n",
              "          const docLink = document.createElement('div');\n",
              "          docLink.innerHTML = docLinkHtml;\n",
              "          element.appendChild(docLink);\n",
              "        }\n",
              "      </script>\n",
              "    </div>\n",
              "  </div>\n",
              "  "
            ]
          },
          "metadata": {},
          "execution_count": 49
        }
      ]
    },
    {
      "cell_type": "code",
      "source": [
        "pulsar_data.shape"
      ],
      "metadata": {
        "colab": {
          "base_uri": "https://localhost:8080/"
        },
        "id": "d-VBdy7yalB5",
        "outputId": "3e65c29e-8a61-4a1a-dadf-4988aa7da6a7"
      },
      "execution_count": null,
      "outputs": [
        {
          "output_type": "execute_result",
          "data": {
            "text/plain": [
              "(12528, 9)"
            ]
          },
          "metadata": {},
          "execution_count": 50
        }
      ]
    },
    {
      "cell_type": "code",
      "source": [
        "pulsar_data.shape"
      ],
      "metadata": {
        "colab": {
          "base_uri": "https://localhost:8080/"
        },
        "id": "vF6UcV__ak6h",
        "outputId": "101d0b54-1d4a-479d-cdef-1a58e6767c39"
      },
      "execution_count": null,
      "outputs": [
        {
          "output_type": "execute_result",
          "data": {
            "text/plain": [
              "(12528, 9)"
            ]
          },
          "metadata": {},
          "execution_count": 51
        }
      ]
    },
    {
      "cell_type": "markdown",
      "source": [
        "## EDA"
      ],
      "metadata": {
        "id": "tOVwAwMcb-Yz"
      }
    },
    {
      "cell_type": "code",
      "source": [
        "pulsar_data.describe()"
      ],
      "metadata": {
        "colab": {
          "base_uri": "https://localhost:8080/",
          "height": 362
        },
        "id": "MtTlZxAkakwI",
        "outputId": "6e339289-7b95-4286-d86f-904fda89fc89"
      },
      "execution_count": null,
      "outputs": [
        {
          "output_type": "execute_result",
          "data": {
            "text/plain": [
              "        Mean of the integrated profile  \\\n",
              "count                     12528.000000   \n",
              "mean                        111.041841   \n",
              "std                          25.672828   \n",
              "min                           5.812500   \n",
              "25%                         100.871094   \n",
              "50%                         115.183594   \n",
              "75%                         127.109375   \n",
              "max                         189.734375   \n",
              "\n",
              "        Standard deviation of the integrated profile  \\\n",
              "count                                   12528.000000   \n",
              "mean                                       46.521437   \n",
              "std                                         6.801077   \n",
              "min                                        24.772042   \n",
              "25%                                        42.362222   \n",
              "50%                                        46.931022   \n",
              "75%                                        50.979103   \n",
              "max                                        91.808628   \n",
              "\n",
              "        Excess kurtosis of the integrated profile  \\\n",
              "count                                10793.000000   \n",
              "mean                                     0.478548   \n",
              "std                                      1.064708   \n",
              "min                                     -1.738021   \n",
              "25%                                      0.024652   \n",
              "50%                                      0.223678   \n",
              "75%                                      0.473125   \n",
              "max                                      8.069522   \n",
              "\n",
              "        Skewness of the integrated profile   Mean of the DM-SNR curve  \\\n",
              "count                         12528.000000               12528.000000   \n",
              "mean                              1.778431                  12.674758   \n",
              "std                               6.208450                  29.613230   \n",
              "min                              -1.791886                   0.213211   \n",
              "25%                              -0.188142                   1.910535   \n",
              "50%                               0.203317                   2.792642   \n",
              "75%                               0.932374                   5.413253   \n",
              "max                              68.101622                 222.421405   \n",
              "\n",
              "        Standard deviation of the DM-SNR curve  \\\n",
              "count                             11350.000000   \n",
              "mean                                 26.351318   \n",
              "std                                  19.610842   \n",
              "min                                   7.370432   \n",
              "25%                                  14.404353   \n",
              "50%                                  18.412402   \n",
              "75%                                  28.337418   \n",
              "max                                 110.642211   \n",
              "\n",
              "        Excess kurtosis of the DM-SNR curve   Skewness of the DM-SNR curve  \\\n",
              "count                          12528.000000                   11903.000000   \n",
              "mean                               8.333489                     105.525779   \n",
              "std                                4.535783                     107.399585   \n",
              "min                               -3.139270                      -1.976976   \n",
              "25%                                5.803063                      35.199899   \n",
              "50%                                8.451097                      83.126301   \n",
              "75%                               10.727927                     139.997850   \n",
              "max                               34.539844                    1191.000837   \n",
              "\n",
              "       target_class  \n",
              "count  12528.000000  \n",
              "mean       0.092034  \n",
              "std        0.289085  \n",
              "min        0.000000  \n",
              "25%        0.000000  \n",
              "50%        0.000000  \n",
              "75%        0.000000  \n",
              "max        1.000000  "
            ],
            "text/html": [
              "\n",
              "  <div id=\"df-e2432367-932e-4b6e-aec5-25a61fc9c9ea\">\n",
              "    <div class=\"colab-df-container\">\n",
              "      <div>\n",
              "<style scoped>\n",
              "    .dataframe tbody tr th:only-of-type {\n",
              "        vertical-align: middle;\n",
              "    }\n",
              "\n",
              "    .dataframe tbody tr th {\n",
              "        vertical-align: top;\n",
              "    }\n",
              "\n",
              "    .dataframe thead th {\n",
              "        text-align: right;\n",
              "    }\n",
              "</style>\n",
              "<table border=\"1\" class=\"dataframe\">\n",
              "  <thead>\n",
              "    <tr style=\"text-align: right;\">\n",
              "      <th></th>\n",
              "      <th>Mean of the integrated profile</th>\n",
              "      <th>Standard deviation of the integrated profile</th>\n",
              "      <th>Excess kurtosis of the integrated profile</th>\n",
              "      <th>Skewness of the integrated profile</th>\n",
              "      <th>Mean of the DM-SNR curve</th>\n",
              "      <th>Standard deviation of the DM-SNR curve</th>\n",
              "      <th>Excess kurtosis of the DM-SNR curve</th>\n",
              "      <th>Skewness of the DM-SNR curve</th>\n",
              "      <th>target_class</th>\n",
              "    </tr>\n",
              "  </thead>\n",
              "  <tbody>\n",
              "    <tr>\n",
              "      <th>count</th>\n",
              "      <td>12528.000000</td>\n",
              "      <td>12528.000000</td>\n",
              "      <td>10793.000000</td>\n",
              "      <td>12528.000000</td>\n",
              "      <td>12528.000000</td>\n",
              "      <td>11350.000000</td>\n",
              "      <td>12528.000000</td>\n",
              "      <td>11903.000000</td>\n",
              "      <td>12528.000000</td>\n",
              "    </tr>\n",
              "    <tr>\n",
              "      <th>mean</th>\n",
              "      <td>111.041841</td>\n",
              "      <td>46.521437</td>\n",
              "      <td>0.478548</td>\n",
              "      <td>1.778431</td>\n",
              "      <td>12.674758</td>\n",
              "      <td>26.351318</td>\n",
              "      <td>8.333489</td>\n",
              "      <td>105.525779</td>\n",
              "      <td>0.092034</td>\n",
              "    </tr>\n",
              "    <tr>\n",
              "      <th>std</th>\n",
              "      <td>25.672828</td>\n",
              "      <td>6.801077</td>\n",
              "      <td>1.064708</td>\n",
              "      <td>6.208450</td>\n",
              "      <td>29.613230</td>\n",
              "      <td>19.610842</td>\n",
              "      <td>4.535783</td>\n",
              "      <td>107.399585</td>\n",
              "      <td>0.289085</td>\n",
              "    </tr>\n",
              "    <tr>\n",
              "      <th>min</th>\n",
              "      <td>5.812500</td>\n",
              "      <td>24.772042</td>\n",
              "      <td>-1.738021</td>\n",
              "      <td>-1.791886</td>\n",
              "      <td>0.213211</td>\n",
              "      <td>7.370432</td>\n",
              "      <td>-3.139270</td>\n",
              "      <td>-1.976976</td>\n",
              "      <td>0.000000</td>\n",
              "    </tr>\n",
              "    <tr>\n",
              "      <th>25%</th>\n",
              "      <td>100.871094</td>\n",
              "      <td>42.362222</td>\n",
              "      <td>0.024652</td>\n",
              "      <td>-0.188142</td>\n",
              "      <td>1.910535</td>\n",
              "      <td>14.404353</td>\n",
              "      <td>5.803063</td>\n",
              "      <td>35.199899</td>\n",
              "      <td>0.000000</td>\n",
              "    </tr>\n",
              "    <tr>\n",
              "      <th>50%</th>\n",
              "      <td>115.183594</td>\n",
              "      <td>46.931022</td>\n",
              "      <td>0.223678</td>\n",
              "      <td>0.203317</td>\n",
              "      <td>2.792642</td>\n",
              "      <td>18.412402</td>\n",
              "      <td>8.451097</td>\n",
              "      <td>83.126301</td>\n",
              "      <td>0.000000</td>\n",
              "    </tr>\n",
              "    <tr>\n",
              "      <th>75%</th>\n",
              "      <td>127.109375</td>\n",
              "      <td>50.979103</td>\n",
              "      <td>0.473125</td>\n",
              "      <td>0.932374</td>\n",
              "      <td>5.413253</td>\n",
              "      <td>28.337418</td>\n",
              "      <td>10.727927</td>\n",
              "      <td>139.997850</td>\n",
              "      <td>0.000000</td>\n",
              "    </tr>\n",
              "    <tr>\n",
              "      <th>max</th>\n",
              "      <td>189.734375</td>\n",
              "      <td>91.808628</td>\n",
              "      <td>8.069522</td>\n",
              "      <td>68.101622</td>\n",
              "      <td>222.421405</td>\n",
              "      <td>110.642211</td>\n",
              "      <td>34.539844</td>\n",
              "      <td>1191.000837</td>\n",
              "      <td>1.000000</td>\n",
              "    </tr>\n",
              "  </tbody>\n",
              "</table>\n",
              "</div>\n",
              "      <button class=\"colab-df-convert\" onclick=\"convertToInteractive('df-e2432367-932e-4b6e-aec5-25a61fc9c9ea')\"\n",
              "              title=\"Convert this dataframe to an interactive table.\"\n",
              "              style=\"display:none;\">\n",
              "        \n",
              "  <svg xmlns=\"http://www.w3.org/2000/svg\" height=\"24px\"viewBox=\"0 0 24 24\"\n",
              "       width=\"24px\">\n",
              "    <path d=\"M0 0h24v24H0V0z\" fill=\"none\"/>\n",
              "    <path d=\"M18.56 5.44l.94 2.06.94-2.06 2.06-.94-2.06-.94-.94-2.06-.94 2.06-2.06.94zm-11 1L8.5 8.5l.94-2.06 2.06-.94-2.06-.94L8.5 2.5l-.94 2.06-2.06.94zm10 10l.94 2.06.94-2.06 2.06-.94-2.06-.94-.94-2.06-.94 2.06-2.06.94z\"/><path d=\"M17.41 7.96l-1.37-1.37c-.4-.4-.92-.59-1.43-.59-.52 0-1.04.2-1.43.59L10.3 9.45l-7.72 7.72c-.78.78-.78 2.05 0 2.83L4 21.41c.39.39.9.59 1.41.59.51 0 1.02-.2 1.41-.59l7.78-7.78 2.81-2.81c.8-.78.8-2.07 0-2.86zM5.41 20L4 18.59l7.72-7.72 1.47 1.35L5.41 20z\"/>\n",
              "  </svg>\n",
              "      </button>\n",
              "      \n",
              "  <style>\n",
              "    .colab-df-container {\n",
              "      display:flex;\n",
              "      flex-wrap:wrap;\n",
              "      gap: 12px;\n",
              "    }\n",
              "\n",
              "    .colab-df-convert {\n",
              "      background-color: #E8F0FE;\n",
              "      border: none;\n",
              "      border-radius: 50%;\n",
              "      cursor: pointer;\n",
              "      display: none;\n",
              "      fill: #1967D2;\n",
              "      height: 32px;\n",
              "      padding: 0 0 0 0;\n",
              "      width: 32px;\n",
              "    }\n",
              "\n",
              "    .colab-df-convert:hover {\n",
              "      background-color: #E2EBFA;\n",
              "      box-shadow: 0px 1px 2px rgba(60, 64, 67, 0.3), 0px 1px 3px 1px rgba(60, 64, 67, 0.15);\n",
              "      fill: #174EA6;\n",
              "    }\n",
              "\n",
              "    [theme=dark] .colab-df-convert {\n",
              "      background-color: #3B4455;\n",
              "      fill: #D2E3FC;\n",
              "    }\n",
              "\n",
              "    [theme=dark] .colab-df-convert:hover {\n",
              "      background-color: #434B5C;\n",
              "      box-shadow: 0px 1px 3px 1px rgba(0, 0, 0, 0.15);\n",
              "      filter: drop-shadow(0px 1px 2px rgba(0, 0, 0, 0.3));\n",
              "      fill: #FFFFFF;\n",
              "    }\n",
              "  </style>\n",
              "\n",
              "      <script>\n",
              "        const buttonEl =\n",
              "          document.querySelector('#df-e2432367-932e-4b6e-aec5-25a61fc9c9ea button.colab-df-convert');\n",
              "        buttonEl.style.display =\n",
              "          google.colab.kernel.accessAllowed ? 'block' : 'none';\n",
              "\n",
              "        async function convertToInteractive(key) {\n",
              "          const element = document.querySelector('#df-e2432367-932e-4b6e-aec5-25a61fc9c9ea');\n",
              "          const dataTable =\n",
              "            await google.colab.kernel.invokeFunction('convertToInteractive',\n",
              "                                                     [key], {});\n",
              "          if (!dataTable) return;\n",
              "\n",
              "          const docLinkHtml = 'Like what you see? Visit the ' +\n",
              "            '<a target=\"_blank\" href=https://colab.research.google.com/notebooks/data_table.ipynb>data table notebook</a>'\n",
              "            + ' to learn more about interactive tables.';\n",
              "          element.innerHTML = '';\n",
              "          dataTable['output_type'] = 'display_data';\n",
              "          await google.colab.output.renderOutput(dataTable, element);\n",
              "          const docLink = document.createElement('div');\n",
              "          docLink.innerHTML = docLinkHtml;\n",
              "          element.appendChild(docLink);\n",
              "        }\n",
              "      </script>\n",
              "    </div>\n",
              "  </div>\n",
              "  "
            ]
          },
          "metadata": {},
          "execution_count": 52
        }
      ]
    },
    {
      "cell_type": "code",
      "source": [
        "pulsar_data.info()    # get information about the data(data types, null)"
      ],
      "metadata": {
        "colab": {
          "base_uri": "https://localhost:8080/"
        },
        "id": "lDkjjgErakeA",
        "outputId": "9327151b-a8a0-4515-9be8-3c159b8de0e0"
      },
      "execution_count": null,
      "outputs": [
        {
          "output_type": "stream",
          "name": "stdout",
          "text": [
            "<class 'pandas.core.frame.DataFrame'>\n",
            "RangeIndex: 12528 entries, 0 to 12527\n",
            "Data columns (total 9 columns):\n",
            " #   Column                                         Non-Null Count  Dtype  \n",
            "---  ------                                         --------------  -----  \n",
            " 0    Mean of the integrated profile                12528 non-null  float64\n",
            " 1    Standard deviation of the integrated profile  12528 non-null  float64\n",
            " 2    Excess kurtosis of the integrated profile     10793 non-null  float64\n",
            " 3    Skewness of the integrated profile            12528 non-null  float64\n",
            " 4    Mean of the DM-SNR curve                      12528 non-null  float64\n",
            " 5    Standard deviation of the DM-SNR curve        11350 non-null  float64\n",
            " 6    Excess kurtosis of the DM-SNR curve           12528 non-null  float64\n",
            " 7    Skewness of the DM-SNR curve                  11903 non-null  float64\n",
            " 8   target_class                                   12528 non-null  float64\n",
            "dtypes: float64(9)\n",
            "memory usage: 881.0 KB\n"
          ]
        }
      ]
    },
    {
      "cell_type": "code",
      "source": [
        "pulsar_data.info()       # get information about the test data"
      ],
      "metadata": {
        "colab": {
          "base_uri": "https://localhost:8080/"
        },
        "id": "c4HI5oC_d_1-",
        "outputId": "14e1e265-3cdb-44f1-8155-757f9557993e"
      },
      "execution_count": null,
      "outputs": [
        {
          "output_type": "stream",
          "name": "stdout",
          "text": [
            "<class 'pandas.core.frame.DataFrame'>\n",
            "RangeIndex: 12528 entries, 0 to 12527\n",
            "Data columns (total 9 columns):\n",
            " #   Column                                         Non-Null Count  Dtype  \n",
            "---  ------                                         --------------  -----  \n",
            " 0    Mean of the integrated profile                12528 non-null  float64\n",
            " 1    Standard deviation of the integrated profile  12528 non-null  float64\n",
            " 2    Excess kurtosis of the integrated profile     10793 non-null  float64\n",
            " 3    Skewness of the integrated profile            12528 non-null  float64\n",
            " 4    Mean of the DM-SNR curve                      12528 non-null  float64\n",
            " 5    Standard deviation of the DM-SNR curve        11350 non-null  float64\n",
            " 6    Excess kurtosis of the DM-SNR curve           12528 non-null  float64\n",
            " 7    Skewness of the DM-SNR curve                  11903 non-null  float64\n",
            " 8   target_class                                   12528 non-null  float64\n",
            "dtypes: float64(9)\n",
            "memory usage: 881.0 KB\n"
          ]
        }
      ]
    },
    {
      "cell_type": "markdown",
      "source": [
        "\n",
        "Data modeling (train sample)\n",
        "\n",
        "    1- correct columns names\n",
        "    2- remove duplicates\n",
        "    3- remove null\n",
        "    4- remove outliers"
      ],
      "metadata": {
        "id": "5bZsTvBbeUAe"
      }
    },
    {
      "cell_type": "code",
      "source": [
        "#rename the columns of the data frame so that it can be easil\n",
        "pulsar_data.columns = ['IP_mean', 'IP_std', 'IP_kurtosis', 'IP_skewness','DM-SNR_mean','DM-SNR_std', 'DM-SNR_kurtosis','DM-SNR_skewness', 'target']"
      ],
      "metadata": {
        "id": "4Elxs75qej7L"
      },
      "execution_count": null,
      "outputs": []
    },
    {
      "cell_type": "code",
      "source": [
        "#check the changes\n",
        "pulsar_data.info()"
      ],
      "metadata": {
        "colab": {
          "base_uri": "https://localhost:8080/"
        },
        "id": "fb-bl-e2ejix",
        "outputId": "3876c6ec-ef9e-48ac-e815-68da45b99d8b"
      },
      "execution_count": null,
      "outputs": [
        {
          "output_type": "stream",
          "name": "stdout",
          "text": [
            "<class 'pandas.core.frame.DataFrame'>\n",
            "RangeIndex: 12528 entries, 0 to 12527\n",
            "Data columns (total 9 columns):\n",
            " #   Column           Non-Null Count  Dtype  \n",
            "---  ------           --------------  -----  \n",
            " 0   IP_mean          12528 non-null  float64\n",
            " 1   IP_std           12528 non-null  float64\n",
            " 2   IP_kurtosis      10793 non-null  float64\n",
            " 3   IP_skewness      12528 non-null  float64\n",
            " 4   DM-SNR_mean      12528 non-null  float64\n",
            " 5   DM-SNR_std       11350 non-null  float64\n",
            " 6   DM-SNR_kurtosis  12528 non-null  float64\n",
            " 7   DM-SNR_skewness  11903 non-null  float64\n",
            " 8   target           12528 non-null  float64\n",
            "dtypes: float64(9)\n",
            "memory usage: 881.0 KB\n"
          ]
        }
      ]
    },
    {
      "cell_type": "code",
      "source": [
        "pulsar_data.info()"
      ],
      "metadata": {
        "colab": {
          "base_uri": "https://localhost:8080/"
        },
        "id": "g5_jC9jqe9FH",
        "outputId": "aa3fee57-ea1d-41ed-c069-e11e146a99d5"
      },
      "execution_count": null,
      "outputs": [
        {
          "output_type": "stream",
          "name": "stdout",
          "text": [
            "<class 'pandas.core.frame.DataFrame'>\n",
            "RangeIndex: 12528 entries, 0 to 12527\n",
            "Data columns (total 9 columns):\n",
            " #   Column           Non-Null Count  Dtype  \n",
            "---  ------           --------------  -----  \n",
            " 0   IP_mean          12528 non-null  float64\n",
            " 1   IP_std           12528 non-null  float64\n",
            " 2   IP_kurtosis      10793 non-null  float64\n",
            " 3   IP_skewness      12528 non-null  float64\n",
            " 4   DM-SNR_mean      12528 non-null  float64\n",
            " 5   DM-SNR_std       11350 non-null  float64\n",
            " 6   DM-SNR_kurtosis  12528 non-null  float64\n",
            " 7   DM-SNR_skewness  11903 non-null  float64\n",
            " 8   target           12528 non-null  float64\n",
            "dtypes: float64(9)\n",
            "memory usage: 881.0 KB\n"
          ]
        }
      ]
    },
    {
      "cell_type": "code",
      "source": [
        "#count number of duplicated rows in train data\n",
        "print('There is: ' + str(pulsar_data.duplicated().sum()) + \" duplicated rows in this training dataset.\")"
      ],
      "metadata": {
        "colab": {
          "base_uri": "https://localhost:8080/"
        },
        "id": "jA6GIMTje8u_",
        "outputId": "16d566d1-c1cc-477e-bd24-01efda0c7df1"
      },
      "execution_count": null,
      "outputs": [
        {
          "output_type": "stream",
          "name": "stdout",
          "text": [
            "There is: 0 duplicated rows in this training dataset.\n"
          ]
        }
      ]
    },
    {
      "cell_type": "code",
      "source": [
        "# Present the distribution of each column\n",
        "pulsar_data.hist(bins = 120, figsize=(14,16))\n",
        "plt.show()"
      ],
      "metadata": {
        "colab": {
          "base_uri": "https://localhost:8080/",
          "height": 934
        },
        "id": "dKRVRtMxfSr0",
        "outputId": "5890a312-4a17-4719-bbce-fd419b8b9b63"
      },
      "execution_count": null,
      "outputs": [
        {
          "output_type": "display_data",
          "data": {
            "text/plain": [
              "<Figure size 1008x1152 with 9 Axes>"
            ],
            "image/png": "[encoded data removed]"
          },
          "metadata": {
            "needs_background": "light"
          }
        }
      ]
    },
    {
      "cell_type": "code",
      "source": [
        "# Count null in each column\n",
        "pulsar_data.isnull().sum()"
      ],
      "metadata": {
        "colab": {
          "base_uri": "https://localhost:8080/"
        },
        "id": "lzIt_Gj6fSW0",
        "outputId": "ce12597f-18f4-473a-bc18-27298c5bcd14"
      },
      "execution_count": null,
      "outputs": [
        {
          "output_type": "execute_result",
          "data": {
            "text/plain": [
              "IP_mean               0\n",
              "IP_std                0\n",
              "IP_kurtosis        1735\n",
              "IP_skewness           0\n",
              "DM-SNR_mean           0\n",
              "DM-SNR_std         1178\n",
              "DM-SNR_kurtosis       0\n",
              "DM-SNR_skewness     625\n",
              "target                0\n",
              "dtype: int64"
            ]
          },
          "metadata": {},
          "execution_count": 60
        }
      ]
    },
    {
      "cell_type": "code",
      "source": [
        "# heat map for null values\n",
        "sns.heatmap(pulsar_data.isnull())"
      ],
      "metadata": {
        "colab": {
          "base_uri": "https://localhost:8080/",
          "height": 371
        },
        "id": "1zAaBBtGcRVl",
        "outputId": "cfcea36c-a3e7-4a28-c05b-a2f29601a25d"
      },
      "execution_count": null,
      "outputs": [
        {
          "output_type": "execute_result",
          "data": {
            "text/plain": [
              "<matplotlib.axes._subplots.AxesSubplot at 0x7fe4174cb850>"
            ]
          },
          "metadata": {},
          "execution_count": 61
        },
        {
          "output_type": "display_data",
          "data": {
            "text/plain": [
              "<Figure size 432x288 with 2 Axes>"
            ],
            "image/png": "[encoded data removed]"
          },
          "metadata": {
            "needs_background": "light"
          }
        }
      ]
    },
    {
      "cell_type": "code",
      "source": [
        "pulsar_data.dropna(inplace=True)"
      ],
      "metadata": {
        "id": "-HE2L0K_gNg3"
      },
      "execution_count": null,
      "outputs": []
    },
    {
      "cell_type": "code",
      "source": [
        "pulsar_data.isnull().sum()"
      ],
      "metadata": {
        "colab": {
          "base_uri": "https://localhost:8080/"
        },
        "id": "Ul0OMjlIiLqW",
        "outputId": "be614a8b-9b45-4157-e70e-6ed6afb48c6d"
      },
      "execution_count": null,
      "outputs": [
        {
          "output_type": "execute_result",
          "data": {
            "text/plain": [
              "IP_mean            0\n",
              "IP_std             0\n",
              "IP_kurtosis        0\n",
              "IP_skewness        0\n",
              "DM-SNR_mean        0\n",
              "DM-SNR_std         0\n",
              "DM-SNR_kurtosis    0\n",
              "DM-SNR_skewness    0\n",
              "target             0\n",
              "dtype: int64"
            ]
          },
          "metadata": {},
          "execution_count": 63
        }
      ]
    },
    {
      "cell_type": "code",
      "source": [
        "pulsar_data.head()"
      ],
      "metadata": {
        "colab": {
          "base_uri": "https://localhost:8080/",
          "height": 206
        },
        "id": "V2f6Ys8jjqbc",
        "outputId": "a1a00e28-8aff-4b99-830b-34a6e08c9c68"
      },
      "execution_count": null,
      "outputs": [
        {
          "output_type": "execute_result",
          "data": {
            "text/plain": [
              "      IP_mean     IP_std  IP_kurtosis  IP_skewness  DM-SNR_mean  DM-SNR_std  \\\n",
              "0  121.156250  48.372971     0.375485    -0.013165     3.168896   18.399367   \n",
              "1   76.968750  36.175557     0.712898     3.388719     2.399666   17.570997   \n",
              "2  130.585938  53.229534     0.133408    -0.297242     2.743311   22.362553   \n",
              "4   84.804688  36.117659     0.825013     3.274125     2.790134   20.618009   \n",
              "7  109.406250  55.912521     0.565106     0.056247     2.797659   19.496527   \n",
              "\n",
              "   DM-SNR_kurtosis  DM-SNR_skewness  target  \n",
              "0         7.449874        65.159298     0.0  \n",
              "1         9.414652       102.722975     0.0  \n",
              "2         8.508364        74.031324     0.0  \n",
              "4         8.405008        76.291128     0.0  \n",
              "7         9.443282        97.374578     0.0  "
            ],
            "text/html": [
              "\n",
              "  <div id=\"df-acdab708-1cc0-4f01-a377-42a521e96b16\">\n",
              "    <div class=\"colab-df-container\">\n",
              "      <div>\n",
              "<style scoped>\n",
              "    .dataframe tbody tr th:only-of-type {\n",
              "        vertical-align: middle;\n",
              "    }\n",
              "\n",
              "    .dataframe tbody tr th {\n",
              "        vertical-align: top;\n",
              "    }\n",
              "\n",
              "    .dataframe thead th {\n",
              "        text-align: right;\n",
              "    }\n",
              "</style>\n",
              "<table border=\"1\" class=\"dataframe\">\n",
              "  <thead>\n",
              "    <tr style=\"text-align: right;\">\n",
              "      <th></th>\n",
              "      <th>IP_mean</th>\n",
              "      <th>IP_std</th>\n",
              "      <th>IP_kurtosis</th>\n",
              "      <th>IP_skewness</th>\n",
              "      <th>DM-SNR_mean</th>\n",
              "      <th>DM-SNR_std</th>\n",
              "      <th>DM-SNR_kurtosis</th>\n",
              "      <th>DM-SNR_skewness</th>\n",
              "      <th>target</th>\n",
              "    </tr>\n",
              "  </thead>\n",
              "  <tbody>\n",
              "    <tr>\n",
              "      <th>0</th>\n",
              "      <td>121.156250</td>\n",
              "      <td>48.372971</td>\n",
              "      <td>0.375485</td>\n",
              "      <td>-0.013165</td>\n",
              "      <td>3.168896</td>\n",
              "      <td>18.399367</td>\n",
              "      <td>7.449874</td>\n",
              "      <td>65.159298</td>\n",
              "      <td>0.0</td>\n",
              "    </tr>\n",
              "    <tr>\n",
              "      <th>1</th>\n",
              "      <td>76.968750</td>\n",
              "      <td>36.175557</td>\n",
              "      <td>0.712898</td>\n",
              "      <td>3.388719</td>\n",
              "      <td>2.399666</td>\n",
              "      <td>17.570997</td>\n",
              "      <td>9.414652</td>\n",
              "      <td>102.722975</td>\n",
              "      <td>0.0</td>\n",
              "    </tr>\n",
              "    <tr>\n",
              "      <th>2</th>\n",
              "      <td>130.585938</td>\n",
              "      <td>53.229534</td>\n",
              "      <td>0.133408</td>\n",
              "      <td>-0.297242</td>\n",
              "      <td>2.743311</td>\n",
              "      <td>22.362553</td>\n",
              "      <td>8.508364</td>\n",
              "      <td>74.031324</td>\n",
              "      <td>0.0</td>\n",
              "    </tr>\n",
              "    <tr>\n",
              "      <th>4</th>\n",
              "      <td>84.804688</td>\n",
              "      <td>36.117659</td>\n",
              "      <td>0.825013</td>\n",
              "      <td>3.274125</td>\n",
              "      <td>2.790134</td>\n",
              "      <td>20.618009</td>\n",
              "      <td>8.405008</td>\n",
              "      <td>76.291128</td>\n",
              "      <td>0.0</td>\n",
              "    </tr>\n",
              "    <tr>\n",
              "      <th>7</th>\n",
              "      <td>109.406250</td>\n",
              "      <td>55.912521</td>\n",
              "      <td>0.565106</td>\n",
              "      <td>0.056247</td>\n",
              "      <td>2.797659</td>\n",
              "      <td>19.496527</td>\n",
              "      <td>9.443282</td>\n",
              "      <td>97.374578</td>\n",
              "      <td>0.0</td>\n",
              "    </tr>\n",
              "  </tbody>\n",
              "</table>\n",
              "</div>\n",
              "      <button class=\"colab-df-convert\" onclick=\"convertToInteractive('df-acdab708-1cc0-4f01-a377-42a521e96b16')\"\n",
              "              title=\"Convert this dataframe to an interactive table.\"\n",
              "              style=\"display:none;\">\n",
              "        \n",
              "  <svg xmlns=\"http://www.w3.org/2000/svg\" height=\"24px\"viewBox=\"0 0 24 24\"\n",
              "       width=\"24px\">\n",
              "    <path d=\"M0 0h24v24H0V0z\" fill=\"none\"/>\n",
              "    <path d=\"M18.56 5.44l.94 2.06.94-2.06 2.06-.94-2.06-.94-.94-2.06-.94 2.06-2.06.94zm-11 1L8.5 8.5l.94-2.06 2.06-.94-2.06-.94L8.5 2.5l-.94 2.06-2.06.94zm10 10l.94 2.06.94-2.06 2.06-.94-2.06-.94-.94-2.06-.94 2.06-2.06.94z\"/><path d=\"M17.41 7.96l-1.37-1.37c-.4-.4-.92-.59-1.43-.59-.52 0-1.04.2-1.43.59L10.3 9.45l-7.72 7.72c-.78.78-.78 2.05 0 2.83L4 21.41c.39.39.9.59 1.41.59.51 0 1.02-.2 1.41-.59l7.78-7.78 2.81-2.81c.8-.78.8-2.07 0-2.86zM5.41 20L4 18.59l7.72-7.72 1.47 1.35L5.41 20z\"/>\n",
              "  </svg>\n",
              "      </button>\n",
              "      \n",
              "  <style>\n",
              "    .colab-df-container {\n",
              "      display:flex;\n",
              "      flex-wrap:wrap;\n",
              "      gap: 12px;\n",
              "    }\n",
              "\n",
              "    .colab-df-convert {\n",
              "      background-color: #E8F0FE;\n",
              "      border: none;\n",
              "      border-radius: 50%;\n",
              "      cursor: pointer;\n",
              "      display: none;\n",
              "      fill: #1967D2;\n",
              "      height: 32px;\n",
              "      padding: 0 0 0 0;\n",
              "      width: 32px;\n",
              "    }\n",
              "\n",
              "    .colab-df-convert:hover {\n",
              "      background-color: #E2EBFA;\n",
              "      box-shadow: 0px 1px 2px rgba(60, 64, 67, 0.3), 0px 1px 3px 1px rgba(60, 64, 67, 0.15);\n",
              "      fill: #174EA6;\n",
              "    }\n",
              "\n",
              "    [theme=dark] .colab-df-convert {\n",
              "      background-color: #3B4455;\n",
              "      fill: #D2E3FC;\n",
              "    }\n",
              "\n",
              "    [theme=dark] .colab-df-convert:hover {\n",
              "      background-color: #434B5C;\n",
              "      box-shadow: 0px 1px 3px 1px rgba(0, 0, 0, 0.15);\n",
              "      filter: drop-shadow(0px 1px 2px rgba(0, 0, 0, 0.3));\n",
              "      fill: #FFFFFF;\n",
              "    }\n",
              "  </style>\n",
              "\n",
              "      <script>\n",
              "        const buttonEl =\n",
              "          document.querySelector('#df-acdab708-1cc0-4f01-a377-42a521e96b16 button.colab-df-convert');\n",
              "        buttonEl.style.display =\n",
              "          google.colab.kernel.accessAllowed ? 'block' : 'none';\n",
              "\n",
              "        async function convertToInteractive(key) {\n",
              "          const element = document.querySelector('#df-acdab708-1cc0-4f01-a377-42a521e96b16');\n",
              "          const dataTable =\n",
              "            await google.colab.kernel.invokeFunction('convertToInteractive',\n",
              "                                                     [key], {});\n",
              "          if (!dataTable) return;\n",
              "\n",
              "          const docLinkHtml = 'Like what you see? Visit the ' +\n",
              "            '<a target=\"_blank\" href=https://colab.research.google.com/notebooks/data_table.ipynb>data table notebook</a>'\n",
              "            + ' to learn more about interactive tables.';\n",
              "          element.innerHTML = '';\n",
              "          dataTable['output_type'] = 'display_data';\n",
              "          await google.colab.output.renderOutput(dataTable, element);\n",
              "          const docLink = document.createElement('div');\n",
              "          docLink.innerHTML = docLinkHtml;\n",
              "          element.appendChild(docLink);\n",
              "        }\n",
              "      </script>\n",
              "    </div>\n",
              "  </div>\n",
              "  "
            ]
          },
          "metadata": {},
          "execution_count": 64
        }
      ]
    },
    {
      "cell_type": "markdown",
      "source": [
        "# Outliers"
      ],
      "metadata": {
        "id": "Wi1Wb-jumfg0"
      }
    },
    {
      "cell_type": "code",
      "source": [
        "pulsar_data.plot(kind = \"box\" , subplots = True , figsize = (18,15) ,  layout = (3,4))\n",
        "plt.show()"
      ],
      "metadata": {
        "colab": {
          "base_uri": "https://localhost:8080/",
          "height": 863
        },
        "id": "cVOKG87Gj2Pq",
        "outputId": "2802d6de-23af-4c5a-9252-d4be441c293b"
      },
      "execution_count": null,
      "outputs": [
        {
          "output_type": "display_data",
          "data": {
            "text/plain": [
              "<Figure size 1296x1080 with 12 Axes>"
            ],
            "image/png": "[encoded data removed]"
          },
          "metadata": {
            "needs_background": "light"
          }
        }
      ]
    },
    {
      "cell_type": "markdown",
      "source": [
        "## Split target feature"
      ],
      "metadata": {
        "id": "8s-P3RGTnIJA"
      }
    },
    {
      "cell_type": "code",
      "source": [
        "new_data = pulsar_data.copy()\n",
        "from sklearn.model_selection import train_test_split\n",
        "feat = new_data.drop(\"target\",axis=1)\n",
        "targ = new_data[\"target\"]"
      ],
      "metadata": {
        "id": "Qq9k3GGAmmXl"
      },
      "execution_count": null,
      "outputs": []
    },
    {
      "cell_type": "code",
      "source": [
        "feat   # Explanatory variables"
      ],
      "metadata": {
        "colab": {
          "base_uri": "https://localhost:8080/",
          "height": 424
        },
        "id": "s6BKVFuoAKhs",
        "outputId": "8d858acb-5d16-4f6c-a2a3-ceed70fe4a42"
      },
      "execution_count": null,
      "outputs": [
        {
          "output_type": "execute_result",
          "data": {
            "text/plain": [
              "          IP_mean     IP_std  IP_kurtosis  IP_skewness  DM-SNR_mean  \\\n",
              "0      121.156250  48.372971     0.375485    -0.013165     3.168896   \n",
              "1       76.968750  36.175557     0.712898     3.388719     2.399666   \n",
              "2      130.585938  53.229534     0.133408    -0.297242     2.743311   \n",
              "4       84.804688  36.117659     0.825013     3.274125     2.790134   \n",
              "7      109.406250  55.912521     0.565106     0.056247     2.797659   \n",
              "...           ...        ...          ...          ...          ...   \n",
              "12522  124.828125  50.586731     0.233563    -0.286908     2.342809   \n",
              "12523  124.312500  53.179053    -0.012418    -0.556021     7.186455   \n",
              "12525  116.031250  43.213846     0.663456     0.433088     0.785117   \n",
              "12526  135.664062  49.933749    -0.089940    -0.226726     3.859532   \n",
              "12527  120.726562  50.472256     0.346178     0.184797     0.769231   \n",
              "\n",
              "       DM-SNR_std  DM-SNR_kurtosis  DM-SNR_skewness  \n",
              "0       18.399367         7.449874        65.159298  \n",
              "1       17.570997         9.414652       102.722975  \n",
              "2       22.362553         8.508364        74.031324  \n",
              "4       20.618009         8.405008        76.291128  \n",
              "7       19.496527         9.443282        97.374578  \n",
              "...           ...              ...              ...  \n",
              "12522   13.949966         9.226188       117.308146  \n",
              "12523   29.308266         4.531382        21.725143  \n",
              "12525   11.628149        17.055215       312.204325  \n",
              "12526   21.501505         7.398395        62.334018  \n",
              "12527   11.792603        17.662222       329.548016  \n",
              "\n",
              "[9273 rows x 8 columns]"
            ],
            "text/html": [
              "\n",
              "  <div id=\"df-9f9079b9-daac-4654-b60f-337290996fd1\">\n",
              "    <div class=\"colab-df-container\">\n",
              "      <div>\n",
              "<style scoped>\n",
              "    .dataframe tbody tr th:only-of-type {\n",
              "        vertical-align: middle;\n",
              "    }\n",
              "\n",
              "    .dataframe tbody tr th {\n",
              "        vertical-align: top;\n",
              "    }\n",
              "\n",
              "    .dataframe thead th {\n",
              "        text-align: right;\n",
              "    }\n",
              "</style>\n",
              "<table border=\"1\" class=\"dataframe\">\n",
              "  <thead>\n",
              "    <tr style=\"text-align: right;\">\n",
              "      <th></th>\n",
              "      <th>IP_mean</th>\n",
              "      <th>IP_std</th>\n",
              "      <th>IP_kurtosis</th>\n",
              "      <th>IP_skewness</th>\n",
              "      <th>DM-SNR_mean</th>\n",
              "      <th>DM-SNR_std</th>\n",
              "      <th>DM-SNR_kurtosis</th>\n",
              "      <th>DM-SNR_skewness</th>\n",
              "    </tr>\n",
              "  </thead>\n",
              "  <tbody>\n",
              "    <tr>\n",
              "      <th>0</th>\n",
              "      <td>121.156250</td>\n",
              "      <td>48.372971</td>\n",
              "      <td>0.375485</td>\n",
              "      <td>-0.013165</td>\n",
              "      <td>3.168896</td>\n",
              "      <td>18.399367</td>\n",
              "      <td>7.449874</td>\n",
              "      <td>65.159298</td>\n",
              "    </tr>\n",
              "    <tr>\n",
              "      <th>1</th>\n",
              "      <td>76.968750</td>\n",
              "      <td>36.175557</td>\n",
              "      <td>0.712898</td>\n",
              "      <td>3.388719</td>\n",
              "      <td>2.399666</td>\n",
              "      <td>17.570997</td>\n",
              "      <td>9.414652</td>\n",
              "      <td>102.722975</td>\n",
              "    </tr>\n",
              "    <tr>\n",
              "      <th>2</th>\n",
              "      <td>130.585938</td>\n",
              "      <td>53.229534</td>\n",
              "      <td>0.133408</td>\n",
              "      <td>-0.297242</td>\n",
              "      <td>2.743311</td>\n",
              "      <td>22.362553</td>\n",
              "      <td>8.508364</td>\n",
              "      <td>74.031324</td>\n",
              "    </tr>\n",
              "    <tr>\n",
              "      <th>4</th>\n",
              "      <td>84.804688</td>\n",
              "      <td>36.117659</td>\n",
              "      <td>0.825013</td>\n",
              "      <td>3.274125</td>\n",
              "      <td>2.790134</td>\n",
              "      <td>20.618009</td>\n",
              "      <td>8.405008</td>\n",
              "      <td>76.291128</td>\n",
              "    </tr>\n",
              "    <tr>\n",
              "      <th>7</th>\n",
              "      <td>109.406250</td>\n",
              "      <td>55.912521</td>\n",
              "      <td>0.565106</td>\n",
              "      <td>0.056247</td>\n",
              "      <td>2.797659</td>\n",
              "      <td>19.496527</td>\n",
              "      <td>9.443282</td>\n",
              "      <td>97.374578</td>\n",
              "    </tr>\n",
              "    <tr>\n",
              "      <th>...</th>\n",
              "      <td>...</td>\n",
              "      <td>...</td>\n",
              "      <td>...</td>\n",
              "      <td>...</td>\n",
              "      <td>...</td>\n",
              "      <td>...</td>\n",
              "      <td>...</td>\n",
              "      <td>...</td>\n",
              "    </tr>\n",
              "    <tr>\n",
              "      <th>12522</th>\n",
              "      <td>124.828125</td>\n",
              "      <td>50.586731</td>\n",
              "      <td>0.233563</td>\n",
              "      <td>-0.286908</td>\n",
              "      <td>2.342809</td>\n",
              "      <td>13.949966</td>\n",
              "      <td>9.226188</td>\n",
              "      <td>117.308146</td>\n",
              "    </tr>\n",
              "    <tr>\n",
              "      <th>12523</th>\n",
              "      <td>124.312500</td>\n",
              "      <td>53.179053</td>\n",
              "      <td>-0.012418</td>\n",
              "      <td>-0.556021</td>\n",
              "      <td>7.186455</td>\n",
              "      <td>29.308266</td>\n",
              "      <td>4.531382</td>\n",
              "      <td>21.725143</td>\n",
              "    </tr>\n",
              "    <tr>\n",
              "      <th>12525</th>\n",
              "      <td>116.031250</td>\n",
              "      <td>43.213846</td>\n",
              "      <td>0.663456</td>\n",
              "      <td>0.433088</td>\n",
              "      <td>0.785117</td>\n",
              "      <td>11.628149</td>\n",
              "      <td>17.055215</td>\n",
              "      <td>312.204325</td>\n",
              "    </tr>\n",
              "    <tr>\n",
              "      <th>12526</th>\n",
              "      <td>135.664062</td>\n",
              "      <td>49.933749</td>\n",
              "      <td>-0.089940</td>\n",
              "      <td>-0.226726</td>\n",
              "      <td>3.859532</td>\n",
              "      <td>21.501505</td>\n",
              "      <td>7.398395</td>\n",
              "      <td>62.334018</td>\n",
              "    </tr>\n",
              "    <tr>\n",
              "      <th>12527</th>\n",
              "      <td>120.726562</td>\n",
              "      <td>50.472256</td>\n",
              "      <td>0.346178</td>\n",
              "      <td>0.184797</td>\n",
              "      <td>0.769231</td>\n",
              "      <td>11.792603</td>\n",
              "      <td>17.662222</td>\n",
              "      <td>329.548016</td>\n",
              "    </tr>\n",
              "  </tbody>\n",
              "</table>\n",
              "<p>9273 rows × 8 columns</p>\n",
              "</div>\n",
              "      <button class=\"colab-df-convert\" onclick=\"convertToInteractive('df-9f9079b9-daac-4654-b60f-337290996fd1')\"\n",
              "              title=\"Convert this dataframe to an interactive table.\"\n",
              "              style=\"display:none;\">\n",
              "        \n",
              "  <svg xmlns=\"http://www.w3.org/2000/svg\" height=\"24px\"viewBox=\"0 0 24 24\"\n",
              "       width=\"24px\">\n",
              "    <path d=\"M0 0h24v24H0V0z\" fill=\"none\"/>\n",
              "    <path d=\"M18.56 5.44l.94 2.06.94-2.06 2.06-.94-2.06-.94-.94-2.06-.94 2.06-2.06.94zm-11 1L8.5 8.5l.94-2.06 2.06-.94-2.06-.94L8.5 2.5l-.94 2.06-2.06.94zm10 10l.94 2.06.94-2.06 2.06-.94-2.06-.94-.94-2.06-.94 2.06-2.06.94z\"/><path d=\"M17.41 7.96l-1.37-1.37c-.4-.4-.92-.59-1.43-.59-.52 0-1.04.2-1.43.59L10.3 9.45l-7.72 7.72c-.78.78-.78 2.05 0 2.83L4 21.41c.39.39.9.59 1.41.59.51 0 1.02-.2 1.41-.59l7.78-7.78 2.81-2.81c.8-.78.8-2.07 0-2.86zM5.41 20L4 18.59l7.72-7.72 1.47 1.35L5.41 20z\"/>\n",
              "  </svg>\n",
              "      </button>\n",
              "      \n",
              "  <style>\n",
              "    .colab-df-container {\n",
              "      display:flex;\n",
              "      flex-wrap:wrap;\n",
              "      gap: 12px;\n",
              "    }\n",
              "\n",
              "    .colab-df-convert {\n",
              "      background-color: #E8F0FE;\n",
              "      border: none;\n",
              "      border-radius: 50%;\n",
              "      cursor: pointer;\n",
              "      display: none;\n",
              "      fill: #1967D2;\n",
              "      height: 32px;\n",
              "      padding: 0 0 0 0;\n",
              "      width: 32px;\n",
              "    }\n",
              "\n",
              "    .colab-df-convert:hover {\n",
              "      background-color: #E2EBFA;\n",
              "      box-shadow: 0px 1px 2px rgba(60, 64, 67, 0.3), 0px 1px 3px 1px rgba(60, 64, 67, 0.15);\n",
              "      fill: #174EA6;\n",
              "    }\n",
              "\n",
              "    [theme=dark] .colab-df-convert {\n",
              "      background-color: #3B4455;\n",
              "      fill: #D2E3FC;\n",
              "    }\n",
              "\n",
              "    [theme=dark] .colab-df-convert:hover {\n",
              "      background-color: #434B5C;\n",
              "      box-shadow: 0px 1px 3px 1px rgba(0, 0, 0, 0.15);\n",
              "      filter: drop-shadow(0px 1px 2px rgba(0, 0, 0, 0.3));\n",
              "      fill: #FFFFFF;\n",
              "    }\n",
              "  </style>\n",
              "\n",
              "      <script>\n",
              "        const buttonEl =\n",
              "          document.querySelector('#df-9f9079b9-daac-4654-b60f-337290996fd1 button.colab-df-convert');\n",
              "        buttonEl.style.display =\n",
              "          google.colab.kernel.accessAllowed ? 'block' : 'none';\n",
              "\n",
              "        async function convertToInteractive(key) {\n",
              "          const element = document.querySelector('#df-9f9079b9-daac-4654-b60f-337290996fd1');\n",
              "          const dataTable =\n",
              "            await google.colab.kernel.invokeFunction('convertToInteractive',\n",
              "                                                     [key], {});\n",
              "          if (!dataTable) return;\n",
              "\n",
              "          const docLinkHtml = 'Like what you see? Visit the ' +\n",
              "            '<a target=\"_blank\" href=https://colab.research.google.com/notebooks/data_table.ipynb>data table notebook</a>'\n",
              "            + ' to learn more about interactive tables.';\n",
              "          element.innerHTML = '';\n",
              "          dataTable['output_type'] = 'display_data';\n",
              "          await google.colab.output.renderOutput(dataTable, element);\n",
              "          const docLink = document.createElement('div');\n",
              "          docLink.innerHTML = docLinkHtml;\n",
              "          element.appendChild(docLink);\n",
              "        }\n",
              "      </script>\n",
              "    </div>\n",
              "  </div>\n",
              "  "
            ]
          },
          "metadata": {},
          "execution_count": 67
        }
      ]
    },
    {
      "cell_type": "code",
      "source": [
        "targ   # response variable"
      ],
      "metadata": {
        "colab": {
          "base_uri": "https://localhost:8080/"
        },
        "id": "3fLYYUYrARtm",
        "outputId": "b9c987cb-86bf-4afc-bd53-7aa9f7931fba"
      },
      "execution_count": null,
      "outputs": [
        {
          "output_type": "execute_result",
          "data": {
            "text/plain": [
              "0        0.0\n",
              "1        0.0\n",
              "2        0.0\n",
              "4        0.0\n",
              "7        0.0\n",
              "        ... \n",
              "12522    0.0\n",
              "12523    0.0\n",
              "12525    0.0\n",
              "12526    0.0\n",
              "12527    0.0\n",
              "Name: target, Length: 9273, dtype: float64"
            ]
          },
          "metadata": {},
          "execution_count": 68
        }
      ]
    },
    {
      "cell_type": "markdown",
      "source": [
        "## Dealing with imbalacing"
      ],
      "metadata": {
        "id": "qM52aEVUplme"
      }
    },
    {
      "cell_type": "code",
      "source": [
        "targ.value_counts()"
      ],
      "metadata": {
        "colab": {
          "base_uri": "https://localhost:8080/"
        },
        "id": "icfy7iWrphmn",
        "outputId": "df5a908c-5304-4c8a-bede-2250ac64d15c"
      },
      "execution_count": null,
      "outputs": [
        {
          "output_type": "execute_result",
          "data": {
            "text/plain": [
              "0.0    8423\n",
              "1.0     850\n",
              "Name: target, dtype: int64"
            ]
          },
          "metadata": {},
          "execution_count": 69
        }
      ]
    },
    {
      "cell_type": "code",
      "source": [
        "# Initially\n",
        "plt.pie(targ.value_counts(), labels = [\"not pulsar\", 'pulsar'], colors = ['blue', 'red'], autopct = '%1.1f%%', shadow = True, explode = [0.2, 0.1])\n",
        "plt.show()"
      ],
      "metadata": {
        "colab": {
          "base_uri": "https://localhost:8080/",
          "height": 248
        },
        "id": "HVtDEO9FtMzF",
        "outputId": "e87e85e3-6bb7-4210-fbaa-95e82ed535b1"
      },
      "execution_count": null,
      "outputs": [
        {
          "output_type": "display_data",
          "data": {
            "text/plain": [
              "<Figure size 432x288 with 1 Axes>"
            ],
            "image/png": "[encoded data removed]"
          },
          "metadata": {}
        }
      ]
    },
    {
      "cell_type": "code",
      "source": [
        "df = .sample(frac=0.50)"
      ],
      "metadata": {
        "id": "KW1Ar4Wa4exJ"
      },
      "execution_count": null,
      "outputs": []
    },
    {
      "cell_type": "code",
      "source": [
        "# Manage the imbalance\n",
        "\n",
        "from imblearn.over_sampling import SMOTE\n",
        "\n",
        "smote = SMOTE(sampling_strategy=\"minority\")\n",
        "\n",
        "features,target= smote.fit_resample(feat, targ)\n",
        "target.value_counts()"
      ],
      "metadata": {
        "colab": {
          "base_uri": "https://localhost:8080/"
        },
        "id": "TZ-siySypwCo",
        "outputId": "1c20d82e-d08e-447f-d5d6-b6fbaa8a7802"
      },
      "execution_count": null,
      "outputs": [
        {
          "output_type": "execute_result",
          "data": {
            "text/plain": [
              "0.0    8423\n",
              "1.0    8423\n",
              "Name: target, dtype: int64"
            ]
          },
          "metadata": {},
          "execution_count": 71
        }
      ]
    },
    {
      "cell_type": "code",
      "source": [
        "df = df.sample(frac=0.50)"
      ],
      "metadata": {
        "id": "2AdJO4Y64VZa"
      },
      "execution_count": null,
      "outputs": []
    },
    {
      "cell_type": "code",
      "source": [
        "target.shape"
      ],
      "metadata": {
        "colab": {
          "base_uri": "https://localhost:8080/"
        },
        "id": "MMdN066iqWef",
        "outputId": "0dcc6f7f-be39-4c14-f392-5e77e56461b8"
      },
      "execution_count": null,
      "outputs": [
        {
          "output_type": "execute_result",
          "data": {
            "text/plain": [
              "(16846,)"
            ]
          },
          "metadata": {},
          "execution_count": 72
        }
      ]
    },
    {
      "cell_type": "code",
      "source": [
        "features.shape"
      ],
      "metadata": {
        "colab": {
          "base_uri": "https://localhost:8080/"
        },
        "id": "8af1QMCVq9b8",
        "outputId": "a99429d3-a0a3-4750-cad0-2d1b020b0b8d"
      },
      "execution_count": null,
      "outputs": [
        {
          "output_type": "execute_result",
          "data": {
            "text/plain": [
              "(16846, 8)"
            ]
          },
          "metadata": {},
          "execution_count": 73
        }
      ]
    },
    {
      "cell_type": "code",
      "source": [
        "# After dealing with imbalacing\n",
        "plt.pie(target.value_counts(), labels = [\"not pulsar\", 'pulsar'], colors = ['blue', 'red'], autopct = '%1.1f%%', shadow = True, explode = [0.2, 0.1])\n",
        "plt.show()\n"
      ],
      "metadata": {
        "colab": {
          "base_uri": "https://localhost:8080/",
          "height": 258
        },
        "id": "uH2pSuJLsgmu",
        "outputId": "adaedf7b-d56e-400e-e0a5-a4d95796e384"
      },
      "execution_count": null,
      "outputs": [
        {
          "output_type": "display_data",
          "data": {
            "text/plain": [
              "<Figure size 432x288 with 1 Axes>"
            ],
            "image/png": "[encoded data removed]"
          },
          "metadata": {}
        }
      ]
    },
    {
      "cell_type": "markdown",
      "source": [
        "# ANN"
      ],
      "metadata": {
        "id": "Ik13_mLirSAP"
      }
    },
    {
      "cell_type": "markdown",
      "source": [
        "## Splitting dataset into training and testing dataset"
      ],
      "metadata": {
        "id": "in1oFgfO9ao0"
      }
    },
    {
      "cell_type": "markdown",
      "source": [
        "In this step, we are going to split our dataset into training and testing datasets. This is one of the bedrocks of the entire machine learning process. The training dataset is the one on which our model is going to train while the testing dataset is the one on which we are going to test the performance of our model.\n",
        "\n",
        "Here we have used the **train_test_split** function from the **sklearn** library. We have split our dataset in a configuration such that **70** percent of data will be there in the training phase and 30 percent of data will be in the testing phase."
      ],
      "metadata": {
        "id": "t1U2gT8_9A3H"
      }
    },
    {
      "cell_type": "code",
      "source": [
        "# Splitting dataset into training and testing dataset\n",
        "x_train, x_test, y_train, y_test = train_test_split(features, target, test_size = 0.3, random_state = 42)"
      ],
      "metadata": {
        "id": "HlaKv6ItrByQ"
      },
      "execution_count": null,
      "outputs": []
    },
    {
      "cell_type": "code",
      "source": [
        "x_train"
      ],
      "metadata": {
        "colab": {
          "base_uri": "https://localhost:8080/",
          "height": 424
        },
        "id": "Z_Q4sNtRrhaB",
        "outputId": "aa692bfc-2796-4639-868e-e8f3c826cbd5"
      },
      "execution_count": null,
      "outputs": [
        {
          "output_type": "execute_result",
          "data": {
            "text/plain": [
              "          IP_mean     IP_std  IP_kurtosis  IP_skewness  DM-SNR_mean  \\\n",
              "6918   103.414062  52.151301     0.838420     0.511690     2.044314   \n",
              "15694   12.231604  28.647673     7.289023    54.457042   129.165621   \n",
              "1285   137.914062  43.193610     0.049913     0.754577     2.476589   \n",
              "6508   151.765625  45.495619    -0.069999     0.133107    50.292642   \n",
              "4303   136.828125  67.336504    -0.257778    -1.276375     0.962375   \n",
              "...           ...        ...          ...          ...          ...   \n",
              "11284   87.324049  38.717417     1.362010     3.556066    95.743356   \n",
              "11964   15.822261  29.810413     7.237232    52.865559   112.077791   \n",
              "5390    76.234375  37.585212     0.986087     3.419548     3.501672   \n",
              "860    113.156250  39.633169     0.319400     1.663130     5.757525   \n",
              "15795   78.574245  55.451626     1.471332     1.644860    36.336355   \n",
              "\n",
              "       DM-SNR_std  DM-SNR_kurtosis  DM-SNR_skewness  \n",
              "6918    12.990048        11.238172       166.735041  \n",
              "15694   71.973948        -0.151165        -0.832424  \n",
              "1285    13.376911         8.988680       122.021216  \n",
              "6508    81.788861         1.121953        -0.556388  \n",
              "4303     8.426909        23.742638       691.196174  \n",
              "...           ...              ...              ...  \n",
              "11284   90.220609         0.224662        -1.539254  \n",
              "11964   66.511699         0.483137        -0.410579  \n",
              "5390    20.953703         7.557574        66.515171  \n",
              "860     31.242734         5.682965        32.224680  \n",
              "15795   71.207238         1.798290         1.842428  \n",
              "\n",
              "[11792 rows x 8 columns]"
            ],
            "text/html": [
              "\n",
              "  <div id=\"df-c133464f-6d02-4581-833e-3d9d822c9ab7\">\n",
              "    <div class=\"colab-df-container\">\n",
              "      <div>\n",
              "<style scoped>\n",
              "    .dataframe tbody tr th:only-of-type {\n",
              "        vertical-align: middle;\n",
              "    }\n",
              "\n",
              "    .dataframe tbody tr th {\n",
              "        vertical-align: top;\n",
              "    }\n",
              "\n",
              "    .dataframe thead th {\n",
              "        text-align: right;\n",
              "    }\n",
              "</style>\n",
              "<table border=\"1\" class=\"dataframe\">\n",
              "  <thead>\n",
              "    <tr style=\"text-align: right;\">\n",
              "      <th></th>\n",
              "      <th>IP_mean</th>\n",
              "      <th>IP_std</th>\n",
              "      <th>IP_kurtosis</th>\n",
              "      <th>IP_skewness</th>\n",
              "      <th>DM-SNR_mean</th>\n",
              "      <th>DM-SNR_std</th>\n",
              "      <th>DM-SNR_kurtosis</th>\n",
              "      <th>DM-SNR_skewness</th>\n",
              "    </tr>\n",
              "  </thead>\n",
              "  <tbody>\n",
              "    <tr>\n",
              "      <th>6918</th>\n",
              "      <td>103.414062</td>\n",
              "      <td>52.151301</td>\n",
              "      <td>0.838420</td>\n",
              "      <td>0.511690</td>\n",
              "      <td>2.044314</td>\n",
              "      <td>12.990048</td>\n",
              "      <td>11.238172</td>\n",
              "      <td>166.735041</td>\n",
              "    </tr>\n",
              "    <tr>\n",
              "      <th>15694</th>\n",
              "      <td>12.231604</td>\n",
              "      <td>28.647673</td>\n",
              "      <td>7.289023</td>\n",
              "      <td>54.457042</td>\n",
              "      <td>129.165621</td>\n",
              "      <td>71.973948</td>\n",
              "      <td>-0.151165</td>\n",
              "      <td>-0.832424</td>\n",
              "    </tr>\n",
              "    <tr>\n",
              "      <th>1285</th>\n",
              "      <td>137.914062</td>\n",
              "      <td>43.193610</td>\n",
              "      <td>0.049913</td>\n",
              "      <td>0.754577</td>\n",
              "      <td>2.476589</td>\n",
              "      <td>13.376911</td>\n",
              "      <td>8.988680</td>\n",
              "      <td>122.021216</td>\n",
              "    </tr>\n",
              "    <tr>\n",
              "      <th>6508</th>\n",
              "      <td>151.765625</td>\n",
              "      <td>45.495619</td>\n",
              "      <td>-0.069999</td>\n",
              "      <td>0.133107</td>\n",
              "      <td>50.292642</td>\n",
              "      <td>81.788861</td>\n",
              "      <td>1.121953</td>\n",
              "      <td>-0.556388</td>\n",
              "    </tr>\n",
              "    <tr>\n",
              "      <th>4303</th>\n",
              "      <td>136.828125</td>\n",
              "      <td>67.336504</td>\n",
              "      <td>-0.257778</td>\n",
              "      <td>-1.276375</td>\n",
              "      <td>0.962375</td>\n",
              "      <td>8.426909</td>\n",
              "      <td>23.742638</td>\n",
              "      <td>691.196174</td>\n",
              "    </tr>\n",
              "    <tr>\n",
              "      <th>...</th>\n",
              "      <td>...</td>\n",
              "      <td>...</td>\n",
              "      <td>...</td>\n",
              "      <td>...</td>\n",
              "      <td>...</td>\n",
              "      <td>...</td>\n",
              "      <td>...</td>\n",
              "      <td>...</td>\n",
              "    </tr>\n",
              "    <tr>\n",
              "      <th>11284</th>\n",
              "      <td>87.324049</td>\n",
              "      <td>38.717417</td>\n",
              "      <td>1.362010</td>\n",
              "      <td>3.556066</td>\n",
              "      <td>95.743356</td>\n",
              "      <td>90.220609</td>\n",
              "      <td>0.224662</td>\n",
              "      <td>-1.539254</td>\n",
              "    </tr>\n",
              "    <tr>\n",
              "      <th>11964</th>\n",
              "      <td>15.822261</td>\n",
              "      <td>29.810413</td>\n",
              "      <td>7.237232</td>\n",
              "      <td>52.865559</td>\n",
              "      <td>112.077791</td>\n",
              "      <td>66.511699</td>\n",
              "      <td>0.483137</td>\n",
              "      <td>-0.410579</td>\n",
              "    </tr>\n",
              "    <tr>\n",
              "      <th>5390</th>\n",
              "      <td>76.234375</td>\n",
              "      <td>37.585212</td>\n",
              "      <td>0.986087</td>\n",
              "      <td>3.419548</td>\n",
              "      <td>3.501672</td>\n",
              "      <td>20.953703</td>\n",
              "      <td>7.557574</td>\n",
              "      <td>66.515171</td>\n",
              "    </tr>\n",
              "    <tr>\n",
              "      <th>860</th>\n",
              "      <td>113.156250</td>\n",
              "      <td>39.633169</td>\n",
              "      <td>0.319400</td>\n",
              "      <td>1.663130</td>\n",
              "      <td>5.757525</td>\n",
              "      <td>31.242734</td>\n",
              "      <td>5.682965</td>\n",
              "      <td>32.224680</td>\n",
              "    </tr>\n",
              "    <tr>\n",
              "      <th>15795</th>\n",
              "      <td>78.574245</td>\n",
              "      <td>55.451626</td>\n",
              "      <td>1.471332</td>\n",
              "      <td>1.644860</td>\n",
              "      <td>36.336355</td>\n",
              "      <td>71.207238</td>\n",
              "      <td>1.798290</td>\n",
              "      <td>1.842428</td>\n",
              "    </tr>\n",
              "  </tbody>\n",
              "</table>\n",
              "<p>11792 rows × 8 columns</p>\n",
              "</div>\n",
              "      <button class=\"colab-df-convert\" onclick=\"convertToInteractive('df-c133464f-6d02-4581-833e-3d9d822c9ab7')\"\n",
              "              title=\"Convert this dataframe to an interactive table.\"\n",
              "              style=\"display:none;\">\n",
              "        \n",
              "  <svg xmlns=\"http://www.w3.org/2000/svg\" height=\"24px\"viewBox=\"0 0 24 24\"\n",
              "       width=\"24px\">\n",
              "    <path d=\"M0 0h24v24H0V0z\" fill=\"none\"/>\n",
              "    <path d=\"M18.56 5.44l.94 2.06.94-2.06 2.06-.94-2.06-.94-.94-2.06-.94 2.06-2.06.94zm-11 1L8.5 8.5l.94-2.06 2.06-.94-2.06-.94L8.5 2.5l-.94 2.06-2.06.94zm10 10l.94 2.06.94-2.06 2.06-.94-2.06-.94-.94-2.06-.94 2.06-2.06.94z\"/><path d=\"M17.41 7.96l-1.37-1.37c-.4-.4-.92-.59-1.43-.59-.52 0-1.04.2-1.43.59L10.3 9.45l-7.72 7.72c-.78.78-.78 2.05 0 2.83L4 21.41c.39.39.9.59 1.41.59.51 0 1.02-.2 1.41-.59l7.78-7.78 2.81-2.81c.8-.78.8-2.07 0-2.86zM5.41 20L4 18.59l7.72-7.72 1.47 1.35L5.41 20z\"/>\n",
              "  </svg>\n",
              "      </button>\n",
              "      \n",
              "  <style>\n",
              "    .colab-df-container {\n",
              "      display:flex;\n",
              "      flex-wrap:wrap;\n",
              "      gap: 12px;\n",
              "    }\n",
              "\n",
              "    .colab-df-convert {\n",
              "      background-color: #E8F0FE;\n",
              "      border: none;\n",
              "      border-radius: 50%;\n",
              "      cursor: pointer;\n",
              "      display: none;\n",
              "      fill: #1967D2;\n",
              "      height: 32px;\n",
              "      padding: 0 0 0 0;\n",
              "      width: 32px;\n",
              "    }\n",
              "\n",
              "    .colab-df-convert:hover {\n",
              "      background-color: #E2EBFA;\n",
              "      box-shadow: 0px 1px 2px rgba(60, 64, 67, 0.3), 0px 1px 3px 1px rgba(60, 64, 67, 0.15);\n",
              "      fill: #174EA6;\n",
              "    }\n",
              "\n",
              "    [theme=dark] .colab-df-convert {\n",
              "      background-color: #3B4455;\n",
              "      fill: #D2E3FC;\n",
              "    }\n",
              "\n",
              "    [theme=dark] .colab-df-convert:hover {\n",
              "      background-color: #434B5C;\n",
              "      box-shadow: 0px 1px 3px 1px rgba(0, 0, 0, 0.15);\n",
              "      filter: drop-shadow(0px 1px 2px rgba(0, 0, 0, 0.3));\n",
              "      fill: #FFFFFF;\n",
              "    }\n",
              "  </style>\n",
              "\n",
              "      <script>\n",
              "        const buttonEl =\n",
              "          document.querySelector('#df-c133464f-6d02-4581-833e-3d9d822c9ab7 button.colab-df-convert');\n",
              "        buttonEl.style.display =\n",
              "          google.colab.kernel.accessAllowed ? 'block' : 'none';\n",
              "\n",
              "        async function convertToInteractive(key) {\n",
              "          const element = document.querySelector('#df-c133464f-6d02-4581-833e-3d9d822c9ab7');\n",
              "          const dataTable =\n",
              "            await google.colab.kernel.invokeFunction('convertToInteractive',\n",
              "                                                     [key], {});\n",
              "          if (!dataTable) return;\n",
              "\n",
              "          const docLinkHtml = 'Like what you see? Visit the ' +\n",
              "            '<a target=\"_blank\" href=https://colab.research.google.com/notebooks/data_table.ipynb>data table notebook</a>'\n",
              "            + ' to learn more about interactive tables.';\n",
              "          element.innerHTML = '';\n",
              "          dataTable['output_type'] = 'display_data';\n",
              "          await google.colab.output.renderOutput(dataTable, element);\n",
              "          const docLink = document.createElement('div');\n",
              "          docLink.innerHTML = docLinkHtml;\n",
              "          element.appendChild(docLink);\n",
              "        }\n",
              "      </script>\n",
              "    </div>\n",
              "  </div>\n",
              "  "
            ]
          },
          "metadata": {},
          "execution_count": 76
        }
      ]
    },
    {
      "cell_type": "code",
      "source": [
        "x_test.shape"
      ],
      "metadata": {
        "colab": {
          "base_uri": "https://localhost:8080/"
        },
        "id": "v6q2pN8UsByX",
        "outputId": "383d3713-2c17-4b02-df8f-2820472e8de3"
      },
      "execution_count": null,
      "outputs": [
        {
          "output_type": "execute_result",
          "data": {
            "text/plain": [
              "(5054, 8)"
            ]
          },
          "metadata": {},
          "execution_count": 77
        }
      ]
    },
    {
      "cell_type": "markdown",
      "source": [
        "## Performing Feature Scaling"
      ],
      "metadata": {
        "id": "Jflg1EcB9-Po"
      }
    },
    {
      "cell_type": "markdown",
      "source": [
        "The very last step in our feature engineering phase is feature scaling. It is a procedure where all the variables are converted into the same scale. Sometimes in our dataset, certain variables have very high values while certain variables have very low values.\n",
        "\n",
        "We perform feature scaling after spliting the dataset into training and testing datasets. The reason being, the training dataset is something on which our model is going to train or learned itself. While the testing dataset is something on which our model is going to be evaluated. If we perform feature scaling before the train-test split then it will cause information leakage on testing datasets which neglects the purpose of having a testing dataset and hence we should always perform feature scaling after the train-test split."
      ],
      "metadata": {
        "id": "OlYgSnmL-QPK"
      }
    },
    {
      "cell_type": "code",
      "source": [
        "#Performing Feature Scaling\n",
        "\n",
        "from sklearn.preprocessing import StandardScaler\n",
        "sc = StandardScaler()\n",
        "x_train = sc.fit_transform(x_train)\n",
        "x_test = sc.transform(x_test)"
      ],
      "metadata": {
        "id": "eh-o1KUysOuc"
      },
      "execution_count": null,
      "outputs": []
    },
    {
      "cell_type": "code",
      "source": [
        "mean = x_train.mean(axis=0)\n",
        "# Note that \"train_data -= mean\" is the same as \"train_data = train_data - mean\"\n",
        "# The \"/=\" operation is the same but with division.\n",
        "x_train -= mean\n",
        "std = x_train.std(axis=0)\n",
        "x_train /= std\n",
        "\n",
        "x_test -= mean\n",
        "x_test /= std"
      ],
      "metadata": {
        "id": "aHK0HmQAGUbi"
      },
      "execution_count": null,
      "outputs": []
    },
    {
      "cell_type": "code",
      "source": [
        "x_test"
      ],
      "metadata": {
        "colab": {
          "base_uri": "https://localhost:8080/"
        },
        "id": "naEQmnUwDfr3",
        "outputId": "d5eb2726-e8ea-4da6-dd93-daf6896143f6"
      },
      "execution_count": null,
      "outputs": [
        {
          "output_type": "execute_result",
          "data": {
            "text/plain": [
              "array([[-1.46208539, -1.65303438,  2.37104749, ...,  1.79130979,\n",
              "        -1.15548352, -0.69330436],\n",
              "       [ 0.2792397 ,  1.43720273, -0.6615541 , ...,  1.6125968 ,\n",
              "        -1.50494124, -0.67335638],\n",
              "       [ 0.42119985,  0.23352184, -0.55192632, ..., -1.10612885,\n",
              "         1.46021636,  1.33531661],\n",
              "       ...,\n",
              "       [ 1.09416446,  1.04540417, -0.83716754, ..., -0.32871717,\n",
              "        -0.09072046, -0.39060911],\n",
              "       [ 1.29263547,  0.38333531, -0.74607212, ..., -0.75432404,\n",
              "         0.29118438, -0.11028406],\n",
              "       [-1.63141169, -0.48628757,  1.44753731, ...,  1.04181299,\n",
              "        -1.20777301, -0.68552989]])"
            ]
          },
          "metadata": {},
          "execution_count": 80
        }
      ]
    },
    {
      "cell_type": "markdown",
      "source": [
        "## Initializing Artificial Neural Network"
      ],
      "metadata": {
        "id": "tBjM4weu_SVV"
      }
    },
    {
      "cell_type": "markdown",
      "source": [
        "Once we initialize our ann, we are now going to create layers for the same. Here we are going to create a network that will have 2 hidden layers, 1 input layer, and 1 output layer. So, let’s create our very first hidden layer.\n",
        "\n",
        "For the second input, we are always going to use “relu”[rectified linear unit] as an activation function for hidden layers. Since we are going to create two hidden layers, this same step we are going to repeat for the creation of the second hidden layer as well.\n",
        "\n",
        "Here we have created our first hidden layer by using the Dense class which is part of the layers module. This class accepts 2 inputs:-\n",
        "\n",
        "1. units:- number of neurons that will be present in the respective layer\n",
        "\n",
        "2. activation:- specify which activation function to be used\n",
        "\n",
        "Here again, we are going to use the Dense class in order to create the output layer. For the binary classification Problems, the activation function that should always be used is sigmoid. For a multiclass classification problem, the activation function that should be used is softmax."
      ],
      "metadata": {
        "id": "55oDMU6wIhoL"
      }
    },
    {
      "cell_type": "code",
      "source": [
        "from keras import models\n",
        "from keras import layers\n",
        "\n",
        "# Initialising ANN\n",
        "ann = models.Sequential()\n",
        "# Adding First Hidden Layer\n",
        "ann.add(layers.Dense(units=16,activation=\"relu\",input_shape=(x_train.shape[1],)))\n",
        "# Adding Second Hidden Layer\n",
        "ann.add(layers.Dense(units=16,activation=\"relu\"))\n",
        "# Adding Output Layer\n",
        "ann.add(layers.Dense(units=1,activation=\"sigmoid\"))\n",
        "#Compiling ANN\n",
        "ann.compile(optimizer=\"adam\",loss=\"binary_crossentropy\",metrics=['accuracy'])"
      ],
      "metadata": {
        "id": "jmTTze9c_T_q"
      },
      "execution_count": null,
      "outputs": []
    },
    {
      "cell_type": "code",
      "source": [
        "ann_hist = ann.fit(x_train, y_train,\n",
        "                                   epochs=20,\n",
        "                                   batch_size=512,\n",
        "                                   validation_data=(x_test, y_test))"
      ],
      "metadata": {
        "colab": {
          "base_uri": "https://localhost:8080/"
        },
        "id": "sdkSNMnoCuxv",
        "outputId": "a222acd9-b97c-4593-92a5-54c4b4208b08"
      },
      "execution_count": null,
      "outputs": [
        {
          "output_type": "stream",
          "name": "stdout",
          "text": [
            "Epoch 1/20\n",
            "24/24 [==============================] - 1s 15ms/step - loss: 0.6747 - accuracy: 0.6006 - val_loss: 0.5758 - val_accuracy: 0.8000\n",
            "Epoch 2/20\n",
            "24/24 [==============================] - 0s 7ms/step - loss: 0.5027 - accuracy: 0.8355 - val_loss: 0.4159 - val_accuracy: 0.8714\n",
            "Epoch 3/20\n",
            "24/24 [==============================] - 0s 6ms/step - loss: 0.3791 - accuracy: 0.8703 - val_loss: 0.3270 - val_accuracy: 0.8856\n",
            "Epoch 4/20\n",
            "24/24 [==============================] - 0s 6ms/step - loss: 0.3165 - accuracy: 0.8842 - val_loss: 0.2843 - val_accuracy: 0.8975\n",
            "Epoch 5/20\n",
            "24/24 [==============================] - 0s 6ms/step - loss: 0.2854 - accuracy: 0.8952 - val_loss: 0.2616 - val_accuracy: 0.9106\n",
            "Epoch 6/20\n",
            "24/24 [==============================] - 0s 6ms/step - loss: 0.2666 - accuracy: 0.9015 - val_loss: 0.2458 - val_accuracy: 0.9123\n",
            "Epoch 7/20\n",
            "24/24 [==============================] - 0s 6ms/step - loss: 0.2524 - accuracy: 0.9055 - val_loss: 0.2333 - val_accuracy: 0.9167\n",
            "Epoch 8/20\n",
            "24/24 [==============================] - 0s 7ms/step - loss: 0.2408 - accuracy: 0.9093 - val_loss: 0.2228 - val_accuracy: 0.9193\n",
            "Epoch 9/20\n",
            "24/24 [==============================] - 0s 6ms/step - loss: 0.2312 - accuracy: 0.9129 - val_loss: 0.2145 - val_accuracy: 0.9218\n",
            "Epoch 10/20\n",
            "24/24 [==============================] - 0s 6ms/step - loss: 0.2235 - accuracy: 0.9149 - val_loss: 0.2076 - val_accuracy: 0.9248\n",
            "Epoch 11/20\n",
            "24/24 [==============================] - 0s 6ms/step - loss: 0.2167 - accuracy: 0.9185 - val_loss: 0.2018 - val_accuracy: 0.9276\n",
            "Epoch 12/20\n",
            "24/24 [==============================] - 0s 7ms/step - loss: 0.2108 - accuracy: 0.9222 - val_loss: 0.1966 - val_accuracy: 0.9302\n",
            "Epoch 13/20\n",
            "24/24 [==============================] - 0s 6ms/step - loss: 0.2053 - accuracy: 0.9244 - val_loss: 0.1924 - val_accuracy: 0.9309\n",
            "Epoch 14/20\n",
            "24/24 [==============================] - 0s 8ms/step - loss: 0.2006 - accuracy: 0.9268 - val_loss: 0.1891 - val_accuracy: 0.9339\n",
            "Epoch 15/20\n",
            "24/24 [==============================] - 0s 6ms/step - loss: 0.1970 - accuracy: 0.9288 - val_loss: 0.1857 - val_accuracy: 0.9349\n",
            "Epoch 16/20\n",
            "24/24 [==============================] - 0s 6ms/step - loss: 0.1934 - accuracy: 0.9291 - val_loss: 0.1828 - val_accuracy: 0.9351\n",
            "Epoch 17/20\n",
            "24/24 [==============================] - 0s 8ms/step - loss: 0.1905 - accuracy: 0.9294 - val_loss: 0.1815 - val_accuracy: 0.9349\n",
            "Epoch 18/20\n",
            "24/24 [==============================] - 0s 8ms/step - loss: 0.1882 - accuracy: 0.9304 - val_loss: 0.1790 - val_accuracy: 0.9361\n",
            "Epoch 19/20\n",
            "24/24 [==============================] - 0s 8ms/step - loss: 0.1857 - accuracy: 0.9316 - val_loss: 0.1768 - val_accuracy: 0.9359\n",
            "Epoch 20/20\n",
            "24/24 [==============================] - 0s 8ms/step - loss: 0.1844 - accuracy: 0.9307 - val_loss: 0.1759 - val_accuracy: 0.9361\n"
          ]
        }
      ]
    },
    {
      "cell_type": "code",
      "source": [
        "epochs = range(1, 21)\n",
        "original_val_loss = ann_hist.history['val_loss']"
      ],
      "metadata": {
        "id": "5LywHNeqO4uS"
      },
      "execution_count": null,
      "outputs": []
    },
    {
      "cell_type": "markdown",
      "source": [
        "# L1 regularizer"
      ],
      "metadata": {
        "id": "a7gNHxiTNhbN"
      }
    },
    {
      "cell_type": "code",
      "source": [
        "from keras import models\n",
        "from keras import layers\n",
        "from keras import regularizers\n",
        "\n",
        "l1_model = models.Sequential()\n",
        "l1_model.add(layers.Dense(6, kernel_regularizer=regularizers.l1(0.001),\n",
        "                          activation='relu', input_shape=(x_train.shape[1],)))\n",
        "l1_model.add(layers.Dense(6, kernel_regularizer=regularizers.l1(0.001),\n",
        "                          activation='relu'))\n",
        "l1_model.add(layers.Dense(1, activation='sigmoid'))\n",
        "l1_model.compile(optimizer='adam',\n",
        "                 loss='binary_crossentropy',\n",
        "                 metrics=['acc'])"
      ],
      "metadata": {
        "id": "yb_lXtaWIEBQ"
      },
      "execution_count": null,
      "outputs": []
    },
    {
      "cell_type": "code",
      "source": [
        "l1_model_hist = l1_model.fit(x_train, y_train,\n",
        "                             epochs=20,\n",
        "                             batch_size=512,\n",
        "                             validation_data=(x_test, y_test))"
      ],
      "metadata": {
        "colab": {
          "base_uri": "https://localhost:8080/"
        },
        "id": "r283O-twLxAO",
        "outputId": "49bdbe62-05a7-4981-e903-18bf337e606d"
      },
      "execution_count": null,
      "outputs": [
        {
          "output_type": "stream",
          "name": "stdout",
          "text": [
            "Epoch 1/20\n",
            "24/24 [==============================] - 1s 15ms/step - loss: 0.5892 - acc: 0.7643 - val_loss: 0.5607 - val_acc: 0.8502\n",
            "Epoch 2/20\n",
            "24/24 [==============================] - 0s 6ms/step - loss: 0.5352 - acc: 0.8824 - val_loss: 0.5048 - val_acc: 0.9028\n",
            "Epoch 3/20\n",
            "24/24 [==============================] - 0s 6ms/step - loss: 0.4803 - acc: 0.8954 - val_loss: 0.4510 - val_acc: 0.9032\n",
            "Epoch 4/20\n",
            "24/24 [==============================] - 0s 6ms/step - loss: 0.4305 - acc: 0.8968 - val_loss: 0.4040 - val_acc: 0.9048\n",
            "Epoch 5/20\n",
            "24/24 [==============================] - 0s 8ms/step - loss: 0.3893 - acc: 0.8990 - val_loss: 0.3659 - val_acc: 0.9076\n",
            "Epoch 6/20\n",
            "24/24 [==============================] - 0s 6ms/step - loss: 0.3565 - acc: 0.9008 - val_loss: 0.3362 - val_acc: 0.9123\n",
            "Epoch 7/20\n",
            "24/24 [==============================] - 0s 7ms/step - loss: 0.3311 - acc: 0.9037 - val_loss: 0.3130 - val_acc: 0.9145\n",
            "Epoch 8/20\n",
            "24/24 [==============================] - 0s 6ms/step - loss: 0.3126 - acc: 0.9052 - val_loss: 0.2967 - val_acc: 0.9165\n",
            "Epoch 9/20\n",
            "24/24 [==============================] - 0s 6ms/step - loss: 0.2991 - acc: 0.9066 - val_loss: 0.2842 - val_acc: 0.9173\n",
            "Epoch 10/20\n",
            "24/24 [==============================] - 0s 6ms/step - loss: 0.2888 - acc: 0.9098 - val_loss: 0.2743 - val_acc: 0.9201\n",
            "Epoch 11/20\n",
            "24/24 [==============================] - 0s 7ms/step - loss: 0.2809 - acc: 0.9169 - val_loss: 0.2666 - val_acc: 0.9256\n",
            "Epoch 12/20\n",
            "24/24 [==============================] - 0s 6ms/step - loss: 0.2743 - acc: 0.9191 - val_loss: 0.2600 - val_acc: 0.9258\n",
            "Epoch 13/20\n",
            "24/24 [==============================] - 0s 6ms/step - loss: 0.2687 - acc: 0.9193 - val_loss: 0.2545 - val_acc: 0.9260\n",
            "Epoch 14/20\n",
            "24/24 [==============================] - 0s 8ms/step - loss: 0.2642 - acc: 0.9198 - val_loss: 0.2500 - val_acc: 0.9262\n",
            "Epoch 15/20\n",
            "24/24 [==============================] - 0s 7ms/step - loss: 0.2602 - acc: 0.9195 - val_loss: 0.2457 - val_acc: 0.9258\n",
            "Epoch 16/20\n",
            "24/24 [==============================] - 0s 7ms/step - loss: 0.2567 - acc: 0.9196 - val_loss: 0.2422 - val_acc: 0.9262\n",
            "Epoch 17/20\n",
            "24/24 [==============================] - 0s 6ms/step - loss: 0.2536 - acc: 0.9199 - val_loss: 0.2390 - val_acc: 0.9272\n",
            "Epoch 18/20\n",
            "24/24 [==============================] - 0s 8ms/step - loss: 0.2507 - acc: 0.9208 - val_loss: 0.2361 - val_acc: 0.9274\n",
            "Epoch 19/20\n",
            "24/24 [==============================] - 0s 6ms/step - loss: 0.2480 - acc: 0.9216 - val_loss: 0.2333 - val_acc: 0.9280\n",
            "Epoch 20/20\n",
            "24/24 [==============================] - 0s 6ms/step - loss: 0.2454 - acc: 0.9227 - val_loss: 0.2308 - val_acc: 0.9286\n"
          ]
        }
      ]
    },
    {
      "cell_type": "code",
      "source": [
        "l1_model_val_loss = l1_model_hist.history['val_loss']\n",
        "\n",
        "def modelplot_L1():\n",
        "  sns.scatterplot(x=epochs, y=original_val_loss, color=\"b\", marker='x', label='Original model')\n",
        "  sns.scatterplot(x=epochs, y=l1_model_val_loss, color=\"b\", marker='o', label='L1-regularized model')\n",
        "  plt.xlabel('Epochs')\n",
        "  plt.ylabel('Validation loss')\n",
        "  plt.legend()\n",
        "\n",
        "modelplot_L1()"
      ],
      "metadata": {
        "colab": {
          "base_uri": "https://localhost:8080/",
          "height": 279
        },
        "id": "5LsoF4wLNZlh",
        "outputId": "b06e6466-6dc3-4ea0-fc18-e522bee8815c"
      },
      "execution_count": null,
      "outputs": [
        {
          "output_type": "display_data",
          "data": {
            "text/plain": [
              "<Figure size 432x288 with 1 Axes>"
            ],
            "image/png": "[encoded data removed]"
          },
          "metadata": {
            "needs_background": "light"
          }
        }
      ]
    },
    {
      "cell_type": "markdown",
      "source": [
        "# L2 Regularizer"
      ],
      "metadata": {
        "id": "8UhX0SgLNmC1"
      }
    },
    {
      "cell_type": "code",
      "source": [
        "from keras import regularizers\n",
        "\n",
        "l2_model = models.Sequential()\n",
        "l2_model.add(layers.Dense(6, kernel_regularizer=regularizers.l2(0.001),\n",
        "                          activation='relu', input_shape=(x_train.shape[1],)))\n",
        "l2_model.add(layers.Dense(6, kernel_regularizer=regularizers.l2(0.001),\n",
        "                          activation='relu'))\n",
        "l2_model.add(layers.Dense(1, activation='sigmoid'))\n",
        "l2_model.compile(optimizer='adam',\n",
        "                 loss='binary_crossentropy',\n",
        "                 metrics=['acc'])"
      ],
      "metadata": {
        "id": "n9lyF2sVL9UC"
      },
      "execution_count": null,
      "outputs": []
    },
    {
      "cell_type": "code",
      "source": [
        "l2_model_hist = l2_model.fit(x_train, y_train,\n",
        "                             epochs=20,\n",
        "                             batch_size=512,\n",
        "                             validation_data=(x_test, y_test))"
      ],
      "metadata": {
        "colab": {
          "base_uri": "https://localhost:8080/"
        },
        "id": "2l-BpvbKL89q",
        "outputId": "960b7c48-b2c1-4cd0-ea99-9b8b68b46585"
      },
      "execution_count": null,
      "outputs": [
        {
          "output_type": "stream",
          "name": "stdout",
          "text": [
            "Epoch 1/20\n",
            "24/24 [==============================] - 1s 13ms/step - loss: 0.7806 - acc: 0.3584 - val_loss: 0.7323 - val_acc: 0.3692\n",
            "Epoch 2/20\n",
            "24/24 [==============================] - 0s 6ms/step - loss: 0.7206 - acc: 0.3804 - val_loss: 0.7019 - val_acc: 0.4258\n",
            "Epoch 3/20\n",
            "24/24 [==============================] - 0s 7ms/step - loss: 0.6940 - acc: 0.4696 - val_loss: 0.6758 - val_acc: 0.5576\n",
            "Epoch 4/20\n",
            "24/24 [==============================] - 0s 6ms/step - loss: 0.6658 - acc: 0.6328 - val_loss: 0.6433 - val_acc: 0.7113\n",
            "Epoch 5/20\n",
            "24/24 [==============================] - 0s 8ms/step - loss: 0.6313 - acc: 0.7570 - val_loss: 0.6046 - val_acc: 0.7984\n",
            "Epoch 6/20\n",
            "24/24 [==============================] - 0s 7ms/step - loss: 0.5935 - acc: 0.8066 - val_loss: 0.5651 - val_acc: 0.8281\n",
            "Epoch 7/20\n",
            "24/24 [==============================] - 0s 8ms/step - loss: 0.5577 - acc: 0.8290 - val_loss: 0.5317 - val_acc: 0.8423\n",
            "Epoch 8/20\n",
            "24/24 [==============================] - 0s 7ms/step - loss: 0.5303 - acc: 0.8424 - val_loss: 0.5079 - val_acc: 0.8524\n",
            "Epoch 9/20\n",
            "24/24 [==============================] - 0s 6ms/step - loss: 0.5109 - acc: 0.8523 - val_loss: 0.4913 - val_acc: 0.8649\n",
            "Epoch 10/20\n",
            "24/24 [==============================] - 0s 7ms/step - loss: 0.4960 - acc: 0.8613 - val_loss: 0.4781 - val_acc: 0.8710\n",
            "Epoch 11/20\n",
            "24/24 [==============================] - 0s 7ms/step - loss: 0.4843 - acc: 0.8678 - val_loss: 0.4675 - val_acc: 0.8789\n",
            "Epoch 12/20\n",
            "24/24 [==============================] - 0s 6ms/step - loss: 0.4744 - acc: 0.8745 - val_loss: 0.4585 - val_acc: 0.8846\n",
            "Epoch 13/20\n",
            "24/24 [==============================] - 0s 7ms/step - loss: 0.4656 - acc: 0.8794 - val_loss: 0.4505 - val_acc: 0.8876\n",
            "Epoch 14/20\n",
            "24/24 [==============================] - 0s 6ms/step - loss: 0.4578 - acc: 0.8819 - val_loss: 0.4428 - val_acc: 0.8894\n",
            "Epoch 15/20\n",
            "24/24 [==============================] - 0s 7ms/step - loss: 0.4506 - acc: 0.8848 - val_loss: 0.4361 - val_acc: 0.8937\n",
            "Epoch 16/20\n",
            "24/24 [==============================] - 0s 6ms/step - loss: 0.4437 - acc: 0.8876 - val_loss: 0.4295 - val_acc: 0.8953\n",
            "Epoch 17/20\n",
            "24/24 [==============================] - 0s 6ms/step - loss: 0.4372 - acc: 0.8923 - val_loss: 0.4233 - val_acc: 0.9011\n",
            "Epoch 18/20\n",
            "24/24 [==============================] - 0s 6ms/step - loss: 0.4309 - acc: 0.8954 - val_loss: 0.4170 - val_acc: 0.9034\n",
            "Epoch 19/20\n",
            "24/24 [==============================] - 0s 7ms/step - loss: 0.4246 - acc: 0.8970 - val_loss: 0.4107 - val_acc: 0.9056\n",
            "Epoch 20/20\n",
            "24/24 [==============================] - 0s 7ms/step - loss: 0.4184 - acc: 0.8992 - val_loss: 0.4047 - val_acc: 0.9082\n"
          ]
        }
      ]
    },
    {
      "cell_type": "code",
      "source": [
        "l2_model_val_loss = l2_model_hist.history['val_loss']\n",
        "\n",
        "def modelplot_L2():\n",
        "  sns.scatterplot(x=epochs, y=original_val_loss, color=\"b\", marker='x', label='Original model')\n",
        "  sns.scatterplot(x=epochs, y=l2_model_val_loss, color=\"b\", marker='o', label='L2-regularized model')\n",
        "  plt.xlabel('Epochs')\n",
        "  plt.ylabel('Validation loss')\n",
        "  plt.legend()\n",
        "\n",
        "modelplot_L2()"
      ],
      "metadata": {
        "colab": {
          "base_uri": "https://localhost:8080/",
          "height": 279
        },
        "id": "6HmJp_wPMdDn",
        "outputId": "3beaa6ac-15f9-4d6c-dd5d-f2fbec6e19f1"
      },
      "execution_count": null,
      "outputs": [
        {
          "output_type": "display_data",
          "data": {
            "text/plain": [
              "<Figure size 432x288 with 1 Axes>"
            ],
            "image/png": "[encoded data removed]"
          },
          "metadata": {
            "needs_background": "light"
          }
        }
      ]
    },
    {
      "cell_type": "markdown",
      "source": [
        "# Dropout"
      ],
      "metadata": {
        "id": "DsgS1aCbN7n9"
      }
    },
    {
      "cell_type": "code",
      "source": [
        "dpt_model = models.Sequential()\n",
        "dpt_model.add(layers.Dense(6, activation='relu', input_shape=(x_train.shape[1],)))\n",
        "dpt_model.add(layers.Dropout(0.5))\n",
        "dpt_model.add(layers.Dense(6, activation='relu'))\n",
        "dpt_model.add(layers.Dropout(0.5))\n",
        "dpt_model.add(layers.Dense(1, activation='sigmoid'))\n",
        "\n",
        "dpt_model.compile(optimizer='rmsprop',\n",
        "                  loss='binary_crossentropy',\n",
        "                  metrics=['acc'])"
      ],
      "metadata": {
        "id": "--RHiyZPN-HM"
      },
      "execution_count": null,
      "outputs": []
    },
    {
      "cell_type": "code",
      "source": [
        "dpt_model_hist = dpt_model.fit(x_train, y_train,\n",
        "                               epochs=20,\n",
        "                               batch_size=512,\n",
        "                               validation_data=(x_test, y_test))"
      ],
      "metadata": {
        "colab": {
          "base_uri": "https://localhost:8080/"
        },
        "id": "Umq0Qgz4OEH5",
        "outputId": "c3a5e962-779e-4d85-b7fb-36f4e1096ee4"
      },
      "execution_count": null,
      "outputs": [
        {
          "output_type": "stream",
          "name": "stdout",
          "text": [
            "Epoch 1/20\n",
            "24/24 [==============================] - 1s 14ms/step - loss: 0.6812 - acc: 0.6491 - val_loss: 0.5021 - val_acc: 0.8961\n",
            "Epoch 2/20\n",
            "24/24 [==============================] - 0s 8ms/step - loss: 0.6364 - acc: 0.6663 - val_loss: 0.4742 - val_acc: 0.9040\n",
            "Epoch 3/20\n",
            "24/24 [==============================] - 0s 6ms/step - loss: 0.6136 - acc: 0.6824 - val_loss: 0.4523 - val_acc: 0.9070\n",
            "Epoch 4/20\n",
            "24/24 [==============================] - 0s 6ms/step - loss: 0.5869 - acc: 0.6917 - val_loss: 0.4337 - val_acc: 0.9094\n",
            "Epoch 5/20\n",
            "24/24 [==============================] - 0s 8ms/step - loss: 0.5654 - acc: 0.7064 - val_loss: 0.4082 - val_acc: 0.9129\n",
            "Epoch 6/20\n",
            "24/24 [==============================] - 0s 7ms/step - loss: 0.5448 - acc: 0.7194 - val_loss: 0.3844 - val_acc: 0.9139\n",
            "Epoch 7/20\n",
            "24/24 [==============================] - 0s 6ms/step - loss: 0.5260 - acc: 0.7358 - val_loss: 0.3665 - val_acc: 0.9131\n",
            "Epoch 8/20\n",
            "24/24 [==============================] - 0s 8ms/step - loss: 0.5110 - acc: 0.7307 - val_loss: 0.3453 - val_acc: 0.9133\n",
            "Epoch 9/20\n",
            "24/24 [==============================] - 0s 8ms/step - loss: 0.4979 - acc: 0.7519 - val_loss: 0.3284 - val_acc: 0.9135\n",
            "Epoch 10/20\n",
            "24/24 [==============================] - 0s 8ms/step - loss: 0.4772 - acc: 0.7636 - val_loss: 0.3134 - val_acc: 0.9133\n",
            "Epoch 11/20\n",
            "24/24 [==============================] - 0s 7ms/step - loss: 0.4635 - acc: 0.7724 - val_loss: 0.2990 - val_acc: 0.9137\n",
            "Epoch 12/20\n",
            "24/24 [==============================] - 0s 8ms/step - loss: 0.4456 - acc: 0.7777 - val_loss: 0.2848 - val_acc: 0.9133\n",
            "Epoch 13/20\n",
            "24/24 [==============================] - 0s 6ms/step - loss: 0.4385 - acc: 0.7769 - val_loss: 0.2721 - val_acc: 0.9139\n",
            "Epoch 14/20\n",
            "24/24 [==============================] - 0s 6ms/step - loss: 0.4230 - acc: 0.7917 - val_loss: 0.2629 - val_acc: 0.9147\n",
            "Epoch 15/20\n",
            "24/24 [==============================] - 0s 6ms/step - loss: 0.4178 - acc: 0.7943 - val_loss: 0.2541 - val_acc: 0.9159\n",
            "Epoch 16/20\n",
            "24/24 [==============================] - 0s 6ms/step - loss: 0.4022 - acc: 0.8022 - val_loss: 0.2473 - val_acc: 0.9183\n",
            "Epoch 17/20\n",
            "24/24 [==============================] - 0s 6ms/step - loss: 0.4075 - acc: 0.8012 - val_loss: 0.2415 - val_acc: 0.9195\n",
            "Epoch 18/20\n",
            "24/24 [==============================] - 0s 8ms/step - loss: 0.3997 - acc: 0.7981 - val_loss: 0.2374 - val_acc: 0.9211\n",
            "Epoch 19/20\n",
            "24/24 [==============================] - 0s 6ms/step - loss: 0.3939 - acc: 0.8086 - val_loss: 0.2339 - val_acc: 0.9234\n",
            "Epoch 20/20\n",
            "24/24 [==============================] - 0s 6ms/step - loss: 0.3958 - acc: 0.8018 - val_loss: 0.2305 - val_acc: 0.9246\n"
          ]
        }
      ]
    },
    {
      "cell_type": "code",
      "source": [
        "dpt_model_val_loss = dpt_model_hist.history['val_loss']\n",
        "\n",
        "def modelplot_Drop():\n",
        "  sns.scatterplot(x=epochs, y=original_val_loss, color=\"b\", marker='x', label='Original model')\n",
        "  sns.scatterplot(x=epochs, y=dpt_model_val_loss, color=\"b\", marker='o', label='Dropout-regularized model')\n",
        "  plt.xlabel('Epochs')\n",
        "  plt.ylabel('Validation loss')\n",
        "  plt.legend()\n",
        "\n",
        "modelplot_Drop()"
      ],
      "metadata": {
        "colab": {
          "base_uri": "https://localhost:8080/",
          "height": 279
        },
        "id": "ra-Jnc89OGG7",
        "outputId": "776e5722-3fce-4a50-eeb1-0d4d6bc44de2"
      },
      "execution_count": null,
      "outputs": [
        {
          "output_type": "display_data",
          "data": {
            "text/plain": [
              "<Figure size 432x288 with 1 Axes>"
            ],
            "image/png": "[encoded data removed]"
          },
          "metadata": {
            "needs_background": "light"
          }
        }
      ]
    },
    {
      "cell_type": "code",
      "source": [],
      "metadata": {
        "id": "MqMDgr-8QBPR"
      },
      "execution_count": null,
      "outputs": []
    }
  ]
}